{
 "cells": [
  {
   "cell_type": "markdown",
   "metadata": {
    "id": "XMYlgwRhbRz7"
   },
   "source": [
    "\n",
    "#     **Building Model For Character Recognition Using Deep Learning**"
   ]
  },
  {
   "cell_type": "markdown",
   "metadata": {
    "id": "nagL4ZLJbYOY"
   },
   "source": [
    "\n",
    "######      Student Name --> Priyanshu Goyal\n",
    "\n",
    "######      Section --> A\n",
    "\n",
    "######      University Roll No --> 2014787"
   ]
  },
  {
   "cell_type": "markdown",
   "metadata": {
    "id": "Qhjt3kfobee5"
   },
   "source": [
    "### **Importing the necessary libraries, packages**"
   ]
  },
  {
   "cell_type": "code",
   "execution_count": 1,
   "metadata": {
    "id": "XcNSJq0ybS2X"
   },
   "outputs": [],
   "source": [
    "import numpy as np                 # for scientific computation\n",
    "import pandas as pd                # to manipulate, analyse the dataset\n",
    "import tensorflow as tf            # to create deep learning models\n",
    "from tensorflow import keras       # for developing, evaluating models\n",
    "import matplotlib.pyplot as plt    # for graphical plotting and visualization                                                                     \n",
    "import seaborn as sb               # for different visualization of the data\n",
    "from keras.utils import np_utils   # to provide different utilities    "
   ]
  },
  {
   "cell_type": "markdown",
   "metadata": {
    "id": "33tqD2YPpIHw"
   },
   "source": [
    "### **Loading the csv digit and letter datasets into dataframes**"
   ]
  },
  {
   "cell_type": "code",
   "execution_count": 2,
   "metadata": {
    "id": "2YHSp8bEpI2K"
   },
   "outputs": [],
   "source": [
    "#  loading the csv datasets into dataframes\n",
    "train_digit_data = pd.read_csv(\"/content/drive/MyDrive/mnist_train.csv\")      # training data for digits  \n",
    "test_digit_data = pd.read_csv(\"/content/drive/MyDrive/mnist_test.csv\")        # testing data for digits\n",
    "letter_data = pd.read_csv(\"/content/drive/MyDrive/A_Z Handwritten Data.csv\")  # dataset of letters - have to split it "
   ]
  },
  {
   "cell_type": "markdown",
   "metadata": {
    "id": "0qd8GqK_pUgb"
   },
   "source": [
    "### **Joining train and test data of digit dataset to get complete digit dataset**"
   ]
  },
  {
   "cell_type": "code",
   "execution_count": 3,
   "metadata": {
    "id": "Tb0zbublpNHU"
   },
   "outputs": [],
   "source": [
    "digit_data = pd.concat([train_digit_data, test_digit_data], ignore_index = True)  # this combines digits - train and test data"
   ]
  },
  {
   "cell_type": "markdown",
   "metadata": {
    "id": "fdsbOGTBxgn1"
   },
   "source": [
    "### **Exploring the digits and letters datasets**"
   ]
  },
  {
   "cell_type": "code",
   "execution_count": 4,
   "metadata": {
    "colab": {
     "base_uri": "https://localhost:8080/",
     "height": 439
    },
    "id": "VWQjodTQxgDf",
    "outputId": "4705517f-e0c2-4e79-cf63-e7332c3d7213"
   },
   "outputs": [
    {
     "data": {
      "text/html": [
       "<div>\n",
       "<style scoped>\n",
       "    .dataframe tbody tr th:only-of-type {\n",
       "        vertical-align: middle;\n",
       "    }\n",
       "\n",
       "    .dataframe tbody tr th {\n",
       "        vertical-align: top;\n",
       "    }\n",
       "\n",
       "    .dataframe thead th {\n",
       "        text-align: right;\n",
       "    }\n",
       "</style>\n",
       "<table border=\"1\" class=\"dataframe\">\n",
       "  <thead>\n",
       "    <tr style=\"text-align: right;\">\n",
       "      <th></th>\n",
       "      <th>label</th>\n",
       "      <th>1x1</th>\n",
       "      <th>1x2</th>\n",
       "      <th>1x3</th>\n",
       "      <th>1x4</th>\n",
       "      <th>1x5</th>\n",
       "      <th>1x6</th>\n",
       "      <th>1x7</th>\n",
       "      <th>1x8</th>\n",
       "      <th>1x9</th>\n",
       "      <th>1x10</th>\n",
       "      <th>1x11</th>\n",
       "      <th>1x12</th>\n",
       "      <th>1x13</th>\n",
       "      <th>1x14</th>\n",
       "      <th>1x15</th>\n",
       "      <th>1x16</th>\n",
       "      <th>1x17</th>\n",
       "      <th>1x18</th>\n",
       "      <th>1x19</th>\n",
       "      <th>1x20</th>\n",
       "      <th>1x21</th>\n",
       "      <th>1x22</th>\n",
       "      <th>1x23</th>\n",
       "      <th>1x24</th>\n",
       "      <th>1x25</th>\n",
       "      <th>1x26</th>\n",
       "      <th>1x27</th>\n",
       "      <th>1x28</th>\n",
       "      <th>2x1</th>\n",
       "      <th>2x2</th>\n",
       "      <th>2x3</th>\n",
       "      <th>2x4</th>\n",
       "      <th>2x5</th>\n",
       "      <th>2x6</th>\n",
       "      <th>2x7</th>\n",
       "      <th>2x8</th>\n",
       "      <th>2x9</th>\n",
       "      <th>2x10</th>\n",
       "      <th>2x11</th>\n",
       "      <th>...</th>\n",
       "      <th>27x17</th>\n",
       "      <th>27x18</th>\n",
       "      <th>27x19</th>\n",
       "      <th>27x20</th>\n",
       "      <th>27x21</th>\n",
       "      <th>27x22</th>\n",
       "      <th>27x23</th>\n",
       "      <th>27x24</th>\n",
       "      <th>27x25</th>\n",
       "      <th>27x26</th>\n",
       "      <th>27x27</th>\n",
       "      <th>27x28</th>\n",
       "      <th>28x1</th>\n",
       "      <th>28x2</th>\n",
       "      <th>28x3</th>\n",
       "      <th>28x4</th>\n",
       "      <th>28x5</th>\n",
       "      <th>28x6</th>\n",
       "      <th>28x7</th>\n",
       "      <th>28x8</th>\n",
       "      <th>28x9</th>\n",
       "      <th>28x10</th>\n",
       "      <th>28x11</th>\n",
       "      <th>28x12</th>\n",
       "      <th>28x13</th>\n",
       "      <th>28x14</th>\n",
       "      <th>28x15</th>\n",
       "      <th>28x16</th>\n",
       "      <th>28x17</th>\n",
       "      <th>28x18</th>\n",
       "      <th>28x19</th>\n",
       "      <th>28x20</th>\n",
       "      <th>28x21</th>\n",
       "      <th>28x22</th>\n",
       "      <th>28x23</th>\n",
       "      <th>28x24</th>\n",
       "      <th>28x25</th>\n",
       "      <th>28x26</th>\n",
       "      <th>28x27</th>\n",
       "      <th>28x28</th>\n",
       "    </tr>\n",
       "  </thead>\n",
       "  <tbody>\n",
       "    <tr>\n",
       "      <th>0</th>\n",
       "      <td>5</td>\n",
       "      <td>0</td>\n",
       "      <td>0</td>\n",
       "      <td>0</td>\n",
       "      <td>0</td>\n",
       "      <td>0</td>\n",
       "      <td>0</td>\n",
       "      <td>0</td>\n",
       "      <td>0</td>\n",
       "      <td>0</td>\n",
       "      <td>0</td>\n",
       "      <td>0</td>\n",
       "      <td>0</td>\n",
       "      <td>0</td>\n",
       "      <td>0</td>\n",
       "      <td>0</td>\n",
       "      <td>0</td>\n",
       "      <td>0</td>\n",
       "      <td>0</td>\n",
       "      <td>0</td>\n",
       "      <td>0</td>\n",
       "      <td>0</td>\n",
       "      <td>0</td>\n",
       "      <td>0</td>\n",
       "      <td>0</td>\n",
       "      <td>0</td>\n",
       "      <td>0</td>\n",
       "      <td>0</td>\n",
       "      <td>0</td>\n",
       "      <td>0</td>\n",
       "      <td>0</td>\n",
       "      <td>0</td>\n",
       "      <td>0</td>\n",
       "      <td>0</td>\n",
       "      <td>0</td>\n",
       "      <td>0</td>\n",
       "      <td>0</td>\n",
       "      <td>0</td>\n",
       "      <td>0</td>\n",
       "      <td>0</td>\n",
       "      <td>...</td>\n",
       "      <td>0</td>\n",
       "      <td>0</td>\n",
       "      <td>0</td>\n",
       "      <td>0</td>\n",
       "      <td>0</td>\n",
       "      <td>0</td>\n",
       "      <td>0</td>\n",
       "      <td>0</td>\n",
       "      <td>0</td>\n",
       "      <td>0</td>\n",
       "      <td>0</td>\n",
       "      <td>0</td>\n",
       "      <td>0</td>\n",
       "      <td>0</td>\n",
       "      <td>0</td>\n",
       "      <td>0</td>\n",
       "      <td>0</td>\n",
       "      <td>0</td>\n",
       "      <td>0</td>\n",
       "      <td>0</td>\n",
       "      <td>0</td>\n",
       "      <td>0</td>\n",
       "      <td>0</td>\n",
       "      <td>0</td>\n",
       "      <td>0</td>\n",
       "      <td>0</td>\n",
       "      <td>0</td>\n",
       "      <td>0</td>\n",
       "      <td>0</td>\n",
       "      <td>0</td>\n",
       "      <td>0</td>\n",
       "      <td>0</td>\n",
       "      <td>0</td>\n",
       "      <td>0</td>\n",
       "      <td>0</td>\n",
       "      <td>0</td>\n",
       "      <td>0</td>\n",
       "      <td>0</td>\n",
       "      <td>0</td>\n",
       "      <td>0</td>\n",
       "    </tr>\n",
       "    <tr>\n",
       "      <th>1</th>\n",
       "      <td>0</td>\n",
       "      <td>0</td>\n",
       "      <td>0</td>\n",
       "      <td>0</td>\n",
       "      <td>0</td>\n",
       "      <td>0</td>\n",
       "      <td>0</td>\n",
       "      <td>0</td>\n",
       "      <td>0</td>\n",
       "      <td>0</td>\n",
       "      <td>0</td>\n",
       "      <td>0</td>\n",
       "      <td>0</td>\n",
       "      <td>0</td>\n",
       "      <td>0</td>\n",
       "      <td>0</td>\n",
       "      <td>0</td>\n",
       "      <td>0</td>\n",
       "      <td>0</td>\n",
       "      <td>0</td>\n",
       "      <td>0</td>\n",
       "      <td>0</td>\n",
       "      <td>0</td>\n",
       "      <td>0</td>\n",
       "      <td>0</td>\n",
       "      <td>0</td>\n",
       "      <td>0</td>\n",
       "      <td>0</td>\n",
       "      <td>0</td>\n",
       "      <td>0</td>\n",
       "      <td>0</td>\n",
       "      <td>0</td>\n",
       "      <td>0</td>\n",
       "      <td>0</td>\n",
       "      <td>0</td>\n",
       "      <td>0</td>\n",
       "      <td>0</td>\n",
       "      <td>0</td>\n",
       "      <td>0</td>\n",
       "      <td>0</td>\n",
       "      <td>...</td>\n",
       "      <td>0</td>\n",
       "      <td>0</td>\n",
       "      <td>0</td>\n",
       "      <td>0</td>\n",
       "      <td>0</td>\n",
       "      <td>0</td>\n",
       "      <td>0</td>\n",
       "      <td>0</td>\n",
       "      <td>0</td>\n",
       "      <td>0</td>\n",
       "      <td>0</td>\n",
       "      <td>0</td>\n",
       "      <td>0</td>\n",
       "      <td>0</td>\n",
       "      <td>0</td>\n",
       "      <td>0</td>\n",
       "      <td>0</td>\n",
       "      <td>0</td>\n",
       "      <td>0</td>\n",
       "      <td>0</td>\n",
       "      <td>0</td>\n",
       "      <td>0</td>\n",
       "      <td>0</td>\n",
       "      <td>0</td>\n",
       "      <td>0</td>\n",
       "      <td>0</td>\n",
       "      <td>0</td>\n",
       "      <td>0</td>\n",
       "      <td>0</td>\n",
       "      <td>0</td>\n",
       "      <td>0</td>\n",
       "      <td>0</td>\n",
       "      <td>0</td>\n",
       "      <td>0</td>\n",
       "      <td>0</td>\n",
       "      <td>0</td>\n",
       "      <td>0</td>\n",
       "      <td>0</td>\n",
       "      <td>0</td>\n",
       "      <td>0</td>\n",
       "    </tr>\n",
       "    <tr>\n",
       "      <th>2</th>\n",
       "      <td>4</td>\n",
       "      <td>0</td>\n",
       "      <td>0</td>\n",
       "      <td>0</td>\n",
       "      <td>0</td>\n",
       "      <td>0</td>\n",
       "      <td>0</td>\n",
       "      <td>0</td>\n",
       "      <td>0</td>\n",
       "      <td>0</td>\n",
       "      <td>0</td>\n",
       "      <td>0</td>\n",
       "      <td>0</td>\n",
       "      <td>0</td>\n",
       "      <td>0</td>\n",
       "      <td>0</td>\n",
       "      <td>0</td>\n",
       "      <td>0</td>\n",
       "      <td>0</td>\n",
       "      <td>0</td>\n",
       "      <td>0</td>\n",
       "      <td>0</td>\n",
       "      <td>0</td>\n",
       "      <td>0</td>\n",
       "      <td>0</td>\n",
       "      <td>0</td>\n",
       "      <td>0</td>\n",
       "      <td>0</td>\n",
       "      <td>0</td>\n",
       "      <td>0</td>\n",
       "      <td>0</td>\n",
       "      <td>0</td>\n",
       "      <td>0</td>\n",
       "      <td>0</td>\n",
       "      <td>0</td>\n",
       "      <td>0</td>\n",
       "      <td>0</td>\n",
       "      <td>0</td>\n",
       "      <td>0</td>\n",
       "      <td>0</td>\n",
       "      <td>...</td>\n",
       "      <td>0</td>\n",
       "      <td>0</td>\n",
       "      <td>0</td>\n",
       "      <td>0</td>\n",
       "      <td>0</td>\n",
       "      <td>0</td>\n",
       "      <td>0</td>\n",
       "      <td>0</td>\n",
       "      <td>0</td>\n",
       "      <td>0</td>\n",
       "      <td>0</td>\n",
       "      <td>0</td>\n",
       "      <td>0</td>\n",
       "      <td>0</td>\n",
       "      <td>0</td>\n",
       "      <td>0</td>\n",
       "      <td>0</td>\n",
       "      <td>0</td>\n",
       "      <td>0</td>\n",
       "      <td>0</td>\n",
       "      <td>0</td>\n",
       "      <td>0</td>\n",
       "      <td>0</td>\n",
       "      <td>0</td>\n",
       "      <td>0</td>\n",
       "      <td>0</td>\n",
       "      <td>0</td>\n",
       "      <td>0</td>\n",
       "      <td>0</td>\n",
       "      <td>0</td>\n",
       "      <td>0</td>\n",
       "      <td>0</td>\n",
       "      <td>0</td>\n",
       "      <td>0</td>\n",
       "      <td>0</td>\n",
       "      <td>0</td>\n",
       "      <td>0</td>\n",
       "      <td>0</td>\n",
       "      <td>0</td>\n",
       "      <td>0</td>\n",
       "    </tr>\n",
       "    <tr>\n",
       "      <th>3</th>\n",
       "      <td>1</td>\n",
       "      <td>0</td>\n",
       "      <td>0</td>\n",
       "      <td>0</td>\n",
       "      <td>0</td>\n",
       "      <td>0</td>\n",
       "      <td>0</td>\n",
       "      <td>0</td>\n",
       "      <td>0</td>\n",
       "      <td>0</td>\n",
       "      <td>0</td>\n",
       "      <td>0</td>\n",
       "      <td>0</td>\n",
       "      <td>0</td>\n",
       "      <td>0</td>\n",
       "      <td>0</td>\n",
       "      <td>0</td>\n",
       "      <td>0</td>\n",
       "      <td>0</td>\n",
       "      <td>0</td>\n",
       "      <td>0</td>\n",
       "      <td>0</td>\n",
       "      <td>0</td>\n",
       "      <td>0</td>\n",
       "      <td>0</td>\n",
       "      <td>0</td>\n",
       "      <td>0</td>\n",
       "      <td>0</td>\n",
       "      <td>0</td>\n",
       "      <td>0</td>\n",
       "      <td>0</td>\n",
       "      <td>0</td>\n",
       "      <td>0</td>\n",
       "      <td>0</td>\n",
       "      <td>0</td>\n",
       "      <td>0</td>\n",
       "      <td>0</td>\n",
       "      <td>0</td>\n",
       "      <td>0</td>\n",
       "      <td>0</td>\n",
       "      <td>...</td>\n",
       "      <td>0</td>\n",
       "      <td>0</td>\n",
       "      <td>0</td>\n",
       "      <td>0</td>\n",
       "      <td>0</td>\n",
       "      <td>0</td>\n",
       "      <td>0</td>\n",
       "      <td>0</td>\n",
       "      <td>0</td>\n",
       "      <td>0</td>\n",
       "      <td>0</td>\n",
       "      <td>0</td>\n",
       "      <td>0</td>\n",
       "      <td>0</td>\n",
       "      <td>0</td>\n",
       "      <td>0</td>\n",
       "      <td>0</td>\n",
       "      <td>0</td>\n",
       "      <td>0</td>\n",
       "      <td>0</td>\n",
       "      <td>0</td>\n",
       "      <td>0</td>\n",
       "      <td>0</td>\n",
       "      <td>0</td>\n",
       "      <td>0</td>\n",
       "      <td>0</td>\n",
       "      <td>0</td>\n",
       "      <td>0</td>\n",
       "      <td>0</td>\n",
       "      <td>0</td>\n",
       "      <td>0</td>\n",
       "      <td>0</td>\n",
       "      <td>0</td>\n",
       "      <td>0</td>\n",
       "      <td>0</td>\n",
       "      <td>0</td>\n",
       "      <td>0</td>\n",
       "      <td>0</td>\n",
       "      <td>0</td>\n",
       "      <td>0</td>\n",
       "    </tr>\n",
       "    <tr>\n",
       "      <th>4</th>\n",
       "      <td>9</td>\n",
       "      <td>0</td>\n",
       "      <td>0</td>\n",
       "      <td>0</td>\n",
       "      <td>0</td>\n",
       "      <td>0</td>\n",
       "      <td>0</td>\n",
       "      <td>0</td>\n",
       "      <td>0</td>\n",
       "      <td>0</td>\n",
       "      <td>0</td>\n",
       "      <td>0</td>\n",
       "      <td>0</td>\n",
       "      <td>0</td>\n",
       "      <td>0</td>\n",
       "      <td>0</td>\n",
       "      <td>0</td>\n",
       "      <td>0</td>\n",
       "      <td>0</td>\n",
       "      <td>0</td>\n",
       "      <td>0</td>\n",
       "      <td>0</td>\n",
       "      <td>0</td>\n",
       "      <td>0</td>\n",
       "      <td>0</td>\n",
       "      <td>0</td>\n",
       "      <td>0</td>\n",
       "      <td>0</td>\n",
       "      <td>0</td>\n",
       "      <td>0</td>\n",
       "      <td>0</td>\n",
       "      <td>0</td>\n",
       "      <td>0</td>\n",
       "      <td>0</td>\n",
       "      <td>0</td>\n",
       "      <td>0</td>\n",
       "      <td>0</td>\n",
       "      <td>0</td>\n",
       "      <td>0</td>\n",
       "      <td>0</td>\n",
       "      <td>...</td>\n",
       "      <td>147</td>\n",
       "      <td>252</td>\n",
       "      <td>42</td>\n",
       "      <td>0</td>\n",
       "      <td>0</td>\n",
       "      <td>0</td>\n",
       "      <td>0</td>\n",
       "      <td>0</td>\n",
       "      <td>0</td>\n",
       "      <td>0</td>\n",
       "      <td>0</td>\n",
       "      <td>0</td>\n",
       "      <td>0</td>\n",
       "      <td>0</td>\n",
       "      <td>0</td>\n",
       "      <td>0</td>\n",
       "      <td>0</td>\n",
       "      <td>0</td>\n",
       "      <td>0</td>\n",
       "      <td>0</td>\n",
       "      <td>0</td>\n",
       "      <td>0</td>\n",
       "      <td>0</td>\n",
       "      <td>0</td>\n",
       "      <td>0</td>\n",
       "      <td>0</td>\n",
       "      <td>0</td>\n",
       "      <td>0</td>\n",
       "      <td>0</td>\n",
       "      <td>0</td>\n",
       "      <td>0</td>\n",
       "      <td>0</td>\n",
       "      <td>0</td>\n",
       "      <td>0</td>\n",
       "      <td>0</td>\n",
       "      <td>0</td>\n",
       "      <td>0</td>\n",
       "      <td>0</td>\n",
       "      <td>0</td>\n",
       "      <td>0</td>\n",
       "    </tr>\n",
       "    <tr>\n",
       "      <th>...</th>\n",
       "      <td>...</td>\n",
       "      <td>...</td>\n",
       "      <td>...</td>\n",
       "      <td>...</td>\n",
       "      <td>...</td>\n",
       "      <td>...</td>\n",
       "      <td>...</td>\n",
       "      <td>...</td>\n",
       "      <td>...</td>\n",
       "      <td>...</td>\n",
       "      <td>...</td>\n",
       "      <td>...</td>\n",
       "      <td>...</td>\n",
       "      <td>...</td>\n",
       "      <td>...</td>\n",
       "      <td>...</td>\n",
       "      <td>...</td>\n",
       "      <td>...</td>\n",
       "      <td>...</td>\n",
       "      <td>...</td>\n",
       "      <td>...</td>\n",
       "      <td>...</td>\n",
       "      <td>...</td>\n",
       "      <td>...</td>\n",
       "      <td>...</td>\n",
       "      <td>...</td>\n",
       "      <td>...</td>\n",
       "      <td>...</td>\n",
       "      <td>...</td>\n",
       "      <td>...</td>\n",
       "      <td>...</td>\n",
       "      <td>...</td>\n",
       "      <td>...</td>\n",
       "      <td>...</td>\n",
       "      <td>...</td>\n",
       "      <td>...</td>\n",
       "      <td>...</td>\n",
       "      <td>...</td>\n",
       "      <td>...</td>\n",
       "      <td>...</td>\n",
       "      <td>...</td>\n",
       "      <td>...</td>\n",
       "      <td>...</td>\n",
       "      <td>...</td>\n",
       "      <td>...</td>\n",
       "      <td>...</td>\n",
       "      <td>...</td>\n",
       "      <td>...</td>\n",
       "      <td>...</td>\n",
       "      <td>...</td>\n",
       "      <td>...</td>\n",
       "      <td>...</td>\n",
       "      <td>...</td>\n",
       "      <td>...</td>\n",
       "      <td>...</td>\n",
       "      <td>...</td>\n",
       "      <td>...</td>\n",
       "      <td>...</td>\n",
       "      <td>...</td>\n",
       "      <td>...</td>\n",
       "      <td>...</td>\n",
       "      <td>...</td>\n",
       "      <td>...</td>\n",
       "      <td>...</td>\n",
       "      <td>...</td>\n",
       "      <td>...</td>\n",
       "      <td>...</td>\n",
       "      <td>...</td>\n",
       "      <td>...</td>\n",
       "      <td>...</td>\n",
       "      <td>...</td>\n",
       "      <td>...</td>\n",
       "      <td>...</td>\n",
       "      <td>...</td>\n",
       "      <td>...</td>\n",
       "      <td>...</td>\n",
       "      <td>...</td>\n",
       "      <td>...</td>\n",
       "      <td>...</td>\n",
       "      <td>...</td>\n",
       "      <td>...</td>\n",
       "    </tr>\n",
       "    <tr>\n",
       "      <th>69995</th>\n",
       "      <td>2</td>\n",
       "      <td>0</td>\n",
       "      <td>0</td>\n",
       "      <td>0</td>\n",
       "      <td>0</td>\n",
       "      <td>0</td>\n",
       "      <td>0</td>\n",
       "      <td>0</td>\n",
       "      <td>0</td>\n",
       "      <td>0</td>\n",
       "      <td>0</td>\n",
       "      <td>0</td>\n",
       "      <td>0</td>\n",
       "      <td>0</td>\n",
       "      <td>0</td>\n",
       "      <td>0</td>\n",
       "      <td>0</td>\n",
       "      <td>0</td>\n",
       "      <td>0</td>\n",
       "      <td>0</td>\n",
       "      <td>0</td>\n",
       "      <td>0</td>\n",
       "      <td>0</td>\n",
       "      <td>0</td>\n",
       "      <td>0</td>\n",
       "      <td>0</td>\n",
       "      <td>0</td>\n",
       "      <td>0</td>\n",
       "      <td>0</td>\n",
       "      <td>0</td>\n",
       "      <td>0</td>\n",
       "      <td>0</td>\n",
       "      <td>0</td>\n",
       "      <td>0</td>\n",
       "      <td>0</td>\n",
       "      <td>0</td>\n",
       "      <td>0</td>\n",
       "      <td>0</td>\n",
       "      <td>0</td>\n",
       "      <td>0</td>\n",
       "      <td>...</td>\n",
       "      <td>0</td>\n",
       "      <td>0</td>\n",
       "      <td>0</td>\n",
       "      <td>0</td>\n",
       "      <td>0</td>\n",
       "      <td>0</td>\n",
       "      <td>0</td>\n",
       "      <td>0</td>\n",
       "      <td>0</td>\n",
       "      <td>0</td>\n",
       "      <td>0</td>\n",
       "      <td>0</td>\n",
       "      <td>0</td>\n",
       "      <td>0</td>\n",
       "      <td>0</td>\n",
       "      <td>0</td>\n",
       "      <td>0</td>\n",
       "      <td>0</td>\n",
       "      <td>0</td>\n",
       "      <td>0</td>\n",
       "      <td>0</td>\n",
       "      <td>0</td>\n",
       "      <td>0</td>\n",
       "      <td>0</td>\n",
       "      <td>0</td>\n",
       "      <td>0</td>\n",
       "      <td>0</td>\n",
       "      <td>0</td>\n",
       "      <td>0</td>\n",
       "      <td>0</td>\n",
       "      <td>0</td>\n",
       "      <td>0</td>\n",
       "      <td>0</td>\n",
       "      <td>0</td>\n",
       "      <td>0</td>\n",
       "      <td>0</td>\n",
       "      <td>0</td>\n",
       "      <td>0</td>\n",
       "      <td>0</td>\n",
       "      <td>0</td>\n",
       "    </tr>\n",
       "    <tr>\n",
       "      <th>69996</th>\n",
       "      <td>3</td>\n",
       "      <td>0</td>\n",
       "      <td>0</td>\n",
       "      <td>0</td>\n",
       "      <td>0</td>\n",
       "      <td>0</td>\n",
       "      <td>0</td>\n",
       "      <td>0</td>\n",
       "      <td>0</td>\n",
       "      <td>0</td>\n",
       "      <td>0</td>\n",
       "      <td>0</td>\n",
       "      <td>0</td>\n",
       "      <td>0</td>\n",
       "      <td>0</td>\n",
       "      <td>0</td>\n",
       "      <td>0</td>\n",
       "      <td>0</td>\n",
       "      <td>0</td>\n",
       "      <td>0</td>\n",
       "      <td>0</td>\n",
       "      <td>0</td>\n",
       "      <td>0</td>\n",
       "      <td>0</td>\n",
       "      <td>0</td>\n",
       "      <td>0</td>\n",
       "      <td>0</td>\n",
       "      <td>0</td>\n",
       "      <td>0</td>\n",
       "      <td>0</td>\n",
       "      <td>0</td>\n",
       "      <td>0</td>\n",
       "      <td>0</td>\n",
       "      <td>0</td>\n",
       "      <td>0</td>\n",
       "      <td>0</td>\n",
       "      <td>0</td>\n",
       "      <td>0</td>\n",
       "      <td>0</td>\n",
       "      <td>0</td>\n",
       "      <td>...</td>\n",
       "      <td>0</td>\n",
       "      <td>0</td>\n",
       "      <td>0</td>\n",
       "      <td>0</td>\n",
       "      <td>0</td>\n",
       "      <td>0</td>\n",
       "      <td>0</td>\n",
       "      <td>0</td>\n",
       "      <td>0</td>\n",
       "      <td>0</td>\n",
       "      <td>0</td>\n",
       "      <td>0</td>\n",
       "      <td>0</td>\n",
       "      <td>0</td>\n",
       "      <td>0</td>\n",
       "      <td>0</td>\n",
       "      <td>0</td>\n",
       "      <td>0</td>\n",
       "      <td>0</td>\n",
       "      <td>0</td>\n",
       "      <td>0</td>\n",
       "      <td>0</td>\n",
       "      <td>0</td>\n",
       "      <td>0</td>\n",
       "      <td>0</td>\n",
       "      <td>0</td>\n",
       "      <td>0</td>\n",
       "      <td>0</td>\n",
       "      <td>0</td>\n",
       "      <td>0</td>\n",
       "      <td>0</td>\n",
       "      <td>0</td>\n",
       "      <td>0</td>\n",
       "      <td>0</td>\n",
       "      <td>0</td>\n",
       "      <td>0</td>\n",
       "      <td>0</td>\n",
       "      <td>0</td>\n",
       "      <td>0</td>\n",
       "      <td>0</td>\n",
       "    </tr>\n",
       "    <tr>\n",
       "      <th>69997</th>\n",
       "      <td>4</td>\n",
       "      <td>0</td>\n",
       "      <td>0</td>\n",
       "      <td>0</td>\n",
       "      <td>0</td>\n",
       "      <td>0</td>\n",
       "      <td>0</td>\n",
       "      <td>0</td>\n",
       "      <td>0</td>\n",
       "      <td>0</td>\n",
       "      <td>0</td>\n",
       "      <td>0</td>\n",
       "      <td>0</td>\n",
       "      <td>0</td>\n",
       "      <td>0</td>\n",
       "      <td>0</td>\n",
       "      <td>0</td>\n",
       "      <td>0</td>\n",
       "      <td>0</td>\n",
       "      <td>0</td>\n",
       "      <td>0</td>\n",
       "      <td>0</td>\n",
       "      <td>0</td>\n",
       "      <td>0</td>\n",
       "      <td>0</td>\n",
       "      <td>0</td>\n",
       "      <td>0</td>\n",
       "      <td>0</td>\n",
       "      <td>0</td>\n",
       "      <td>0</td>\n",
       "      <td>0</td>\n",
       "      <td>0</td>\n",
       "      <td>0</td>\n",
       "      <td>0</td>\n",
       "      <td>0</td>\n",
       "      <td>0</td>\n",
       "      <td>0</td>\n",
       "      <td>0</td>\n",
       "      <td>0</td>\n",
       "      <td>0</td>\n",
       "      <td>...</td>\n",
       "      <td>0</td>\n",
       "      <td>0</td>\n",
       "      <td>0</td>\n",
       "      <td>0</td>\n",
       "      <td>0</td>\n",
       "      <td>0</td>\n",
       "      <td>0</td>\n",
       "      <td>0</td>\n",
       "      <td>0</td>\n",
       "      <td>0</td>\n",
       "      <td>0</td>\n",
       "      <td>0</td>\n",
       "      <td>0</td>\n",
       "      <td>0</td>\n",
       "      <td>0</td>\n",
       "      <td>0</td>\n",
       "      <td>0</td>\n",
       "      <td>0</td>\n",
       "      <td>0</td>\n",
       "      <td>0</td>\n",
       "      <td>0</td>\n",
       "      <td>0</td>\n",
       "      <td>0</td>\n",
       "      <td>0</td>\n",
       "      <td>0</td>\n",
       "      <td>0</td>\n",
       "      <td>0</td>\n",
       "      <td>0</td>\n",
       "      <td>0</td>\n",
       "      <td>0</td>\n",
       "      <td>0</td>\n",
       "      <td>0</td>\n",
       "      <td>0</td>\n",
       "      <td>0</td>\n",
       "      <td>0</td>\n",
       "      <td>0</td>\n",
       "      <td>0</td>\n",
       "      <td>0</td>\n",
       "      <td>0</td>\n",
       "      <td>0</td>\n",
       "    </tr>\n",
       "    <tr>\n",
       "      <th>69998</th>\n",
       "      <td>5</td>\n",
       "      <td>0</td>\n",
       "      <td>0</td>\n",
       "      <td>0</td>\n",
       "      <td>0</td>\n",
       "      <td>0</td>\n",
       "      <td>0</td>\n",
       "      <td>0</td>\n",
       "      <td>0</td>\n",
       "      <td>0</td>\n",
       "      <td>0</td>\n",
       "      <td>0</td>\n",
       "      <td>0</td>\n",
       "      <td>0</td>\n",
       "      <td>0</td>\n",
       "      <td>0</td>\n",
       "      <td>0</td>\n",
       "      <td>0</td>\n",
       "      <td>0</td>\n",
       "      <td>0</td>\n",
       "      <td>0</td>\n",
       "      <td>0</td>\n",
       "      <td>0</td>\n",
       "      <td>0</td>\n",
       "      <td>0</td>\n",
       "      <td>0</td>\n",
       "      <td>0</td>\n",
       "      <td>0</td>\n",
       "      <td>0</td>\n",
       "      <td>0</td>\n",
       "      <td>0</td>\n",
       "      <td>0</td>\n",
       "      <td>0</td>\n",
       "      <td>0</td>\n",
       "      <td>0</td>\n",
       "      <td>0</td>\n",
       "      <td>0</td>\n",
       "      <td>0</td>\n",
       "      <td>0</td>\n",
       "      <td>0</td>\n",
       "      <td>...</td>\n",
       "      <td>0</td>\n",
       "      <td>0</td>\n",
       "      <td>0</td>\n",
       "      <td>0</td>\n",
       "      <td>0</td>\n",
       "      <td>0</td>\n",
       "      <td>0</td>\n",
       "      <td>0</td>\n",
       "      <td>0</td>\n",
       "      <td>0</td>\n",
       "      <td>0</td>\n",
       "      <td>0</td>\n",
       "      <td>0</td>\n",
       "      <td>0</td>\n",
       "      <td>0</td>\n",
       "      <td>0</td>\n",
       "      <td>0</td>\n",
       "      <td>0</td>\n",
       "      <td>0</td>\n",
       "      <td>0</td>\n",
       "      <td>0</td>\n",
       "      <td>0</td>\n",
       "      <td>0</td>\n",
       "      <td>0</td>\n",
       "      <td>0</td>\n",
       "      <td>0</td>\n",
       "      <td>0</td>\n",
       "      <td>0</td>\n",
       "      <td>0</td>\n",
       "      <td>0</td>\n",
       "      <td>0</td>\n",
       "      <td>0</td>\n",
       "      <td>0</td>\n",
       "      <td>0</td>\n",
       "      <td>0</td>\n",
       "      <td>0</td>\n",
       "      <td>0</td>\n",
       "      <td>0</td>\n",
       "      <td>0</td>\n",
       "      <td>0</td>\n",
       "    </tr>\n",
       "    <tr>\n",
       "      <th>69999</th>\n",
       "      <td>6</td>\n",
       "      <td>0</td>\n",
       "      <td>0</td>\n",
       "      <td>0</td>\n",
       "      <td>0</td>\n",
       "      <td>0</td>\n",
       "      <td>0</td>\n",
       "      <td>0</td>\n",
       "      <td>0</td>\n",
       "      <td>0</td>\n",
       "      <td>0</td>\n",
       "      <td>0</td>\n",
       "      <td>0</td>\n",
       "      <td>0</td>\n",
       "      <td>0</td>\n",
       "      <td>0</td>\n",
       "      <td>0</td>\n",
       "      <td>0</td>\n",
       "      <td>0</td>\n",
       "      <td>0</td>\n",
       "      <td>0</td>\n",
       "      <td>0</td>\n",
       "      <td>0</td>\n",
       "      <td>0</td>\n",
       "      <td>0</td>\n",
       "      <td>0</td>\n",
       "      <td>0</td>\n",
       "      <td>0</td>\n",
       "      <td>0</td>\n",
       "      <td>0</td>\n",
       "      <td>0</td>\n",
       "      <td>0</td>\n",
       "      <td>0</td>\n",
       "      <td>0</td>\n",
       "      <td>0</td>\n",
       "      <td>0</td>\n",
       "      <td>0</td>\n",
       "      <td>0</td>\n",
       "      <td>0</td>\n",
       "      <td>0</td>\n",
       "      <td>...</td>\n",
       "      <td>0</td>\n",
       "      <td>0</td>\n",
       "      <td>0</td>\n",
       "      <td>0</td>\n",
       "      <td>0</td>\n",
       "      <td>0</td>\n",
       "      <td>0</td>\n",
       "      <td>0</td>\n",
       "      <td>0</td>\n",
       "      <td>0</td>\n",
       "      <td>0</td>\n",
       "      <td>0</td>\n",
       "      <td>0</td>\n",
       "      <td>0</td>\n",
       "      <td>0</td>\n",
       "      <td>0</td>\n",
       "      <td>0</td>\n",
       "      <td>0</td>\n",
       "      <td>0</td>\n",
       "      <td>0</td>\n",
       "      <td>0</td>\n",
       "      <td>0</td>\n",
       "      <td>0</td>\n",
       "      <td>0</td>\n",
       "      <td>0</td>\n",
       "      <td>0</td>\n",
       "      <td>0</td>\n",
       "      <td>0</td>\n",
       "      <td>0</td>\n",
       "      <td>0</td>\n",
       "      <td>0</td>\n",
       "      <td>0</td>\n",
       "      <td>0</td>\n",
       "      <td>0</td>\n",
       "      <td>0</td>\n",
       "      <td>0</td>\n",
       "      <td>0</td>\n",
       "      <td>0</td>\n",
       "      <td>0</td>\n",
       "      <td>0</td>\n",
       "    </tr>\n",
       "  </tbody>\n",
       "</table>\n",
       "<p>70000 rows × 785 columns</p>\n",
       "</div>"
      ],
      "text/plain": [
       "       label  1x1  1x2  1x3  1x4  1x5  ...  28x23  28x24  28x25  28x26  28x27  28x28\n",
       "0          5    0    0    0    0    0  ...      0      0      0      0      0      0\n",
       "1          0    0    0    0    0    0  ...      0      0      0      0      0      0\n",
       "2          4    0    0    0    0    0  ...      0      0      0      0      0      0\n",
       "3          1    0    0    0    0    0  ...      0      0      0      0      0      0\n",
       "4          9    0    0    0    0    0  ...      0      0      0      0      0      0\n",
       "...      ...  ...  ...  ...  ...  ...  ...    ...    ...    ...    ...    ...    ...\n",
       "69995      2    0    0    0    0    0  ...      0      0      0      0      0      0\n",
       "69996      3    0    0    0    0    0  ...      0      0      0      0      0      0\n",
       "69997      4    0    0    0    0    0  ...      0      0      0      0      0      0\n",
       "69998      5    0    0    0    0    0  ...      0      0      0      0      0      0\n",
       "69999      6    0    0    0    0    0  ...      0      0      0      0      0      0\n",
       "\n",
       "[70000 rows x 785 columns]"
      ]
     },
     "execution_count": 4,
     "metadata": {},
     "output_type": "execute_result"
    }
   ],
   "source": [
    "#  seeing the digit dataset\n",
    "digit_data"
   ]
  },
  {
   "cell_type": "code",
   "execution_count": 5,
   "metadata": {
    "id": "3IGI5_nhxlu2"
   },
   "outputs": [],
   "source": [
    "#  interpretation of above output - we can see that the digit dataset contains 70000 rows and 785 columns\n",
    "#  means that there are total 70000 instances of images and each image is of a handwritten digit ( from 0 to 9 )\n",
    "#  785 columns for each row means that 1st column denotes the class/label of the image meaning -\n",
    "#  - contains the digit no. (0 to 9) of which the image is\n",
    "#  next 784 columns in each row is the size of each image in pixels --> 28 * 28 pixel image (as 28 * 28 = 784)"
   ]
  },
  {
   "cell_type": "code",
   "execution_count": 6,
   "metadata": {
    "colab": {
     "base_uri": "https://localhost:8080/",
     "height": 439
    },
    "id": "GOtoIX9SxrU2",
    "outputId": "a00a5f1b-c638-4dd9-ebfc-f8501fe2f08e"
   },
   "outputs": [
    {
     "data": {
      "text/html": [
       "<div>\n",
       "<style scoped>\n",
       "    .dataframe tbody tr th:only-of-type {\n",
       "        vertical-align: middle;\n",
       "    }\n",
       "\n",
       "    .dataframe tbody tr th {\n",
       "        vertical-align: top;\n",
       "    }\n",
       "\n",
       "    .dataframe thead th {\n",
       "        text-align: right;\n",
       "    }\n",
       "</style>\n",
       "<table border=\"1\" class=\"dataframe\">\n",
       "  <thead>\n",
       "    <tr style=\"text-align: right;\">\n",
       "      <th></th>\n",
       "      <th>0</th>\n",
       "      <th>0.1</th>\n",
       "      <th>0.2</th>\n",
       "      <th>0.3</th>\n",
       "      <th>0.4</th>\n",
       "      <th>0.5</th>\n",
       "      <th>0.6</th>\n",
       "      <th>0.7</th>\n",
       "      <th>0.8</th>\n",
       "      <th>0.9</th>\n",
       "      <th>0.10</th>\n",
       "      <th>0.11</th>\n",
       "      <th>0.12</th>\n",
       "      <th>0.13</th>\n",
       "      <th>0.14</th>\n",
       "      <th>0.15</th>\n",
       "      <th>0.16</th>\n",
       "      <th>0.17</th>\n",
       "      <th>0.18</th>\n",
       "      <th>0.19</th>\n",
       "      <th>0.20</th>\n",
       "      <th>0.21</th>\n",
       "      <th>0.22</th>\n",
       "      <th>0.23</th>\n",
       "      <th>0.24</th>\n",
       "      <th>0.25</th>\n",
       "      <th>0.26</th>\n",
       "      <th>0.27</th>\n",
       "      <th>0.28</th>\n",
       "      <th>0.29</th>\n",
       "      <th>0.30</th>\n",
       "      <th>0.31</th>\n",
       "      <th>0.32</th>\n",
       "      <th>0.33</th>\n",
       "      <th>0.34</th>\n",
       "      <th>0.35</th>\n",
       "      <th>0.36</th>\n",
       "      <th>0.37</th>\n",
       "      <th>0.38</th>\n",
       "      <th>0.39</th>\n",
       "      <th>...</th>\n",
       "      <th>0.609</th>\n",
       "      <th>0.610</th>\n",
       "      <th>0.611</th>\n",
       "      <th>0.612</th>\n",
       "      <th>0.613</th>\n",
       "      <th>0.614</th>\n",
       "      <th>0.615</th>\n",
       "      <th>0.616</th>\n",
       "      <th>0.617</th>\n",
       "      <th>0.618</th>\n",
       "      <th>0.619</th>\n",
       "      <th>0.620</th>\n",
       "      <th>0.621</th>\n",
       "      <th>0.622</th>\n",
       "      <th>0.623</th>\n",
       "      <th>0.624</th>\n",
       "      <th>0.625</th>\n",
       "      <th>0.626</th>\n",
       "      <th>0.627</th>\n",
       "      <th>0.628</th>\n",
       "      <th>0.629</th>\n",
       "      <th>0.630</th>\n",
       "      <th>0.631</th>\n",
       "      <th>0.632</th>\n",
       "      <th>0.633</th>\n",
       "      <th>0.634</th>\n",
       "      <th>0.635</th>\n",
       "      <th>0.636</th>\n",
       "      <th>0.637</th>\n",
       "      <th>0.638</th>\n",
       "      <th>0.639</th>\n",
       "      <th>0.640</th>\n",
       "      <th>0.641</th>\n",
       "      <th>0.642</th>\n",
       "      <th>0.643</th>\n",
       "      <th>0.644</th>\n",
       "      <th>0.645</th>\n",
       "      <th>0.646</th>\n",
       "      <th>0.647</th>\n",
       "      <th>0.648</th>\n",
       "    </tr>\n",
       "  </thead>\n",
       "  <tbody>\n",
       "    <tr>\n",
       "      <th>0</th>\n",
       "      <td>0</td>\n",
       "      <td>0</td>\n",
       "      <td>0</td>\n",
       "      <td>0</td>\n",
       "      <td>0</td>\n",
       "      <td>0</td>\n",
       "      <td>0</td>\n",
       "      <td>0</td>\n",
       "      <td>0</td>\n",
       "      <td>0</td>\n",
       "      <td>0</td>\n",
       "      <td>0</td>\n",
       "      <td>0</td>\n",
       "      <td>0</td>\n",
       "      <td>0</td>\n",
       "      <td>0</td>\n",
       "      <td>0</td>\n",
       "      <td>0</td>\n",
       "      <td>0</td>\n",
       "      <td>0</td>\n",
       "      <td>0</td>\n",
       "      <td>0</td>\n",
       "      <td>0</td>\n",
       "      <td>0</td>\n",
       "      <td>0</td>\n",
       "      <td>0</td>\n",
       "      <td>0</td>\n",
       "      <td>0</td>\n",
       "      <td>0</td>\n",
       "      <td>0</td>\n",
       "      <td>0</td>\n",
       "      <td>0</td>\n",
       "      <td>0</td>\n",
       "      <td>0</td>\n",
       "      <td>0</td>\n",
       "      <td>0</td>\n",
       "      <td>0</td>\n",
       "      <td>0</td>\n",
       "      <td>0</td>\n",
       "      <td>0</td>\n",
       "      <td>...</td>\n",
       "      <td>0</td>\n",
       "      <td>0</td>\n",
       "      <td>0</td>\n",
       "      <td>0</td>\n",
       "      <td>0</td>\n",
       "      <td>0</td>\n",
       "      <td>0</td>\n",
       "      <td>0</td>\n",
       "      <td>0</td>\n",
       "      <td>0</td>\n",
       "      <td>0</td>\n",
       "      <td>0</td>\n",
       "      <td>0</td>\n",
       "      <td>0</td>\n",
       "      <td>0</td>\n",
       "      <td>0</td>\n",
       "      <td>0</td>\n",
       "      <td>0</td>\n",
       "      <td>0</td>\n",
       "      <td>0</td>\n",
       "      <td>0</td>\n",
       "      <td>0</td>\n",
       "      <td>0</td>\n",
       "      <td>0</td>\n",
       "      <td>0</td>\n",
       "      <td>0</td>\n",
       "      <td>0</td>\n",
       "      <td>0</td>\n",
       "      <td>0</td>\n",
       "      <td>0</td>\n",
       "      <td>0</td>\n",
       "      <td>0</td>\n",
       "      <td>0</td>\n",
       "      <td>0</td>\n",
       "      <td>0</td>\n",
       "      <td>0</td>\n",
       "      <td>0</td>\n",
       "      <td>0</td>\n",
       "      <td>0</td>\n",
       "      <td>0</td>\n",
       "    </tr>\n",
       "    <tr>\n",
       "      <th>1</th>\n",
       "      <td>0</td>\n",
       "      <td>0</td>\n",
       "      <td>0</td>\n",
       "      <td>0</td>\n",
       "      <td>0</td>\n",
       "      <td>0</td>\n",
       "      <td>0</td>\n",
       "      <td>0</td>\n",
       "      <td>0</td>\n",
       "      <td>0</td>\n",
       "      <td>0</td>\n",
       "      <td>0</td>\n",
       "      <td>0</td>\n",
       "      <td>0</td>\n",
       "      <td>0</td>\n",
       "      <td>0</td>\n",
       "      <td>0</td>\n",
       "      <td>0</td>\n",
       "      <td>0</td>\n",
       "      <td>0</td>\n",
       "      <td>0</td>\n",
       "      <td>0</td>\n",
       "      <td>0</td>\n",
       "      <td>0</td>\n",
       "      <td>0</td>\n",
       "      <td>0</td>\n",
       "      <td>0</td>\n",
       "      <td>0</td>\n",
       "      <td>0</td>\n",
       "      <td>0</td>\n",
       "      <td>0</td>\n",
       "      <td>0</td>\n",
       "      <td>0</td>\n",
       "      <td>0</td>\n",
       "      <td>0</td>\n",
       "      <td>0</td>\n",
       "      <td>0</td>\n",
       "      <td>0</td>\n",
       "      <td>0</td>\n",
       "      <td>0</td>\n",
       "      <td>...</td>\n",
       "      <td>0</td>\n",
       "      <td>0</td>\n",
       "      <td>0</td>\n",
       "      <td>0</td>\n",
       "      <td>0</td>\n",
       "      <td>0</td>\n",
       "      <td>0</td>\n",
       "      <td>0</td>\n",
       "      <td>0</td>\n",
       "      <td>0</td>\n",
       "      <td>0</td>\n",
       "      <td>0</td>\n",
       "      <td>0</td>\n",
       "      <td>0</td>\n",
       "      <td>0</td>\n",
       "      <td>0</td>\n",
       "      <td>0</td>\n",
       "      <td>0</td>\n",
       "      <td>0</td>\n",
       "      <td>0</td>\n",
       "      <td>0</td>\n",
       "      <td>0</td>\n",
       "      <td>0</td>\n",
       "      <td>0</td>\n",
       "      <td>0</td>\n",
       "      <td>0</td>\n",
       "      <td>0</td>\n",
       "      <td>0</td>\n",
       "      <td>0</td>\n",
       "      <td>0</td>\n",
       "      <td>0</td>\n",
       "      <td>0</td>\n",
       "      <td>0</td>\n",
       "      <td>0</td>\n",
       "      <td>0</td>\n",
       "      <td>0</td>\n",
       "      <td>0</td>\n",
       "      <td>0</td>\n",
       "      <td>0</td>\n",
       "      <td>0</td>\n",
       "    </tr>\n",
       "    <tr>\n",
       "      <th>2</th>\n",
       "      <td>0</td>\n",
       "      <td>0</td>\n",
       "      <td>0</td>\n",
       "      <td>0</td>\n",
       "      <td>0</td>\n",
       "      <td>0</td>\n",
       "      <td>0</td>\n",
       "      <td>0</td>\n",
       "      <td>0</td>\n",
       "      <td>0</td>\n",
       "      <td>0</td>\n",
       "      <td>0</td>\n",
       "      <td>0</td>\n",
       "      <td>0</td>\n",
       "      <td>0</td>\n",
       "      <td>0</td>\n",
       "      <td>0</td>\n",
       "      <td>0</td>\n",
       "      <td>0</td>\n",
       "      <td>0</td>\n",
       "      <td>0</td>\n",
       "      <td>0</td>\n",
       "      <td>0</td>\n",
       "      <td>0</td>\n",
       "      <td>0</td>\n",
       "      <td>0</td>\n",
       "      <td>0</td>\n",
       "      <td>0</td>\n",
       "      <td>0</td>\n",
       "      <td>0</td>\n",
       "      <td>0</td>\n",
       "      <td>0</td>\n",
       "      <td>0</td>\n",
       "      <td>0</td>\n",
       "      <td>0</td>\n",
       "      <td>0</td>\n",
       "      <td>0</td>\n",
       "      <td>0</td>\n",
       "      <td>0</td>\n",
       "      <td>0</td>\n",
       "      <td>...</td>\n",
       "      <td>0</td>\n",
       "      <td>0</td>\n",
       "      <td>0</td>\n",
       "      <td>0</td>\n",
       "      <td>0</td>\n",
       "      <td>0</td>\n",
       "      <td>0</td>\n",
       "      <td>0</td>\n",
       "      <td>0</td>\n",
       "      <td>0</td>\n",
       "      <td>0</td>\n",
       "      <td>0</td>\n",
       "      <td>0</td>\n",
       "      <td>0</td>\n",
       "      <td>0</td>\n",
       "      <td>0</td>\n",
       "      <td>0</td>\n",
       "      <td>0</td>\n",
       "      <td>0</td>\n",
       "      <td>0</td>\n",
       "      <td>0</td>\n",
       "      <td>0</td>\n",
       "      <td>0</td>\n",
       "      <td>0</td>\n",
       "      <td>0</td>\n",
       "      <td>0</td>\n",
       "      <td>0</td>\n",
       "      <td>0</td>\n",
       "      <td>0</td>\n",
       "      <td>0</td>\n",
       "      <td>0</td>\n",
       "      <td>0</td>\n",
       "      <td>0</td>\n",
       "      <td>0</td>\n",
       "      <td>0</td>\n",
       "      <td>0</td>\n",
       "      <td>0</td>\n",
       "      <td>0</td>\n",
       "      <td>0</td>\n",
       "      <td>0</td>\n",
       "    </tr>\n",
       "    <tr>\n",
       "      <th>3</th>\n",
       "      <td>0</td>\n",
       "      <td>0</td>\n",
       "      <td>0</td>\n",
       "      <td>0</td>\n",
       "      <td>0</td>\n",
       "      <td>0</td>\n",
       "      <td>0</td>\n",
       "      <td>0</td>\n",
       "      <td>0</td>\n",
       "      <td>0</td>\n",
       "      <td>0</td>\n",
       "      <td>0</td>\n",
       "      <td>0</td>\n",
       "      <td>0</td>\n",
       "      <td>0</td>\n",
       "      <td>0</td>\n",
       "      <td>0</td>\n",
       "      <td>0</td>\n",
       "      <td>0</td>\n",
       "      <td>0</td>\n",
       "      <td>0</td>\n",
       "      <td>0</td>\n",
       "      <td>0</td>\n",
       "      <td>0</td>\n",
       "      <td>0</td>\n",
       "      <td>0</td>\n",
       "      <td>0</td>\n",
       "      <td>0</td>\n",
       "      <td>0</td>\n",
       "      <td>0</td>\n",
       "      <td>0</td>\n",
       "      <td>0</td>\n",
       "      <td>0</td>\n",
       "      <td>0</td>\n",
       "      <td>0</td>\n",
       "      <td>0</td>\n",
       "      <td>0</td>\n",
       "      <td>0</td>\n",
       "      <td>0</td>\n",
       "      <td>0</td>\n",
       "      <td>...</td>\n",
       "      <td>0</td>\n",
       "      <td>0</td>\n",
       "      <td>0</td>\n",
       "      <td>0</td>\n",
       "      <td>0</td>\n",
       "      <td>0</td>\n",
       "      <td>0</td>\n",
       "      <td>0</td>\n",
       "      <td>0</td>\n",
       "      <td>0</td>\n",
       "      <td>0</td>\n",
       "      <td>0</td>\n",
       "      <td>0</td>\n",
       "      <td>0</td>\n",
       "      <td>0</td>\n",
       "      <td>0</td>\n",
       "      <td>0</td>\n",
       "      <td>0</td>\n",
       "      <td>0</td>\n",
       "      <td>0</td>\n",
       "      <td>0</td>\n",
       "      <td>0</td>\n",
       "      <td>0</td>\n",
       "      <td>0</td>\n",
       "      <td>0</td>\n",
       "      <td>0</td>\n",
       "      <td>0</td>\n",
       "      <td>0</td>\n",
       "      <td>0</td>\n",
       "      <td>0</td>\n",
       "      <td>0</td>\n",
       "      <td>0</td>\n",
       "      <td>0</td>\n",
       "      <td>0</td>\n",
       "      <td>0</td>\n",
       "      <td>0</td>\n",
       "      <td>0</td>\n",
       "      <td>0</td>\n",
       "      <td>0</td>\n",
       "      <td>0</td>\n",
       "    </tr>\n",
       "    <tr>\n",
       "      <th>4</th>\n",
       "      <td>0</td>\n",
       "      <td>0</td>\n",
       "      <td>0</td>\n",
       "      <td>0</td>\n",
       "      <td>0</td>\n",
       "      <td>0</td>\n",
       "      <td>0</td>\n",
       "      <td>0</td>\n",
       "      <td>0</td>\n",
       "      <td>0</td>\n",
       "      <td>0</td>\n",
       "      <td>0</td>\n",
       "      <td>0</td>\n",
       "      <td>0</td>\n",
       "      <td>0</td>\n",
       "      <td>0</td>\n",
       "      <td>0</td>\n",
       "      <td>0</td>\n",
       "      <td>0</td>\n",
       "      <td>0</td>\n",
       "      <td>0</td>\n",
       "      <td>0</td>\n",
       "      <td>0</td>\n",
       "      <td>0</td>\n",
       "      <td>0</td>\n",
       "      <td>0</td>\n",
       "      <td>0</td>\n",
       "      <td>0</td>\n",
       "      <td>0</td>\n",
       "      <td>0</td>\n",
       "      <td>0</td>\n",
       "      <td>0</td>\n",
       "      <td>0</td>\n",
       "      <td>0</td>\n",
       "      <td>0</td>\n",
       "      <td>0</td>\n",
       "      <td>0</td>\n",
       "      <td>0</td>\n",
       "      <td>0</td>\n",
       "      <td>0</td>\n",
       "      <td>...</td>\n",
       "      <td>0</td>\n",
       "      <td>0</td>\n",
       "      <td>0</td>\n",
       "      <td>0</td>\n",
       "      <td>0</td>\n",
       "      <td>0</td>\n",
       "      <td>0</td>\n",
       "      <td>0</td>\n",
       "      <td>0</td>\n",
       "      <td>0</td>\n",
       "      <td>0</td>\n",
       "      <td>0</td>\n",
       "      <td>0</td>\n",
       "      <td>0</td>\n",
       "      <td>0</td>\n",
       "      <td>0</td>\n",
       "      <td>0</td>\n",
       "      <td>0</td>\n",
       "      <td>0</td>\n",
       "      <td>0</td>\n",
       "      <td>0</td>\n",
       "      <td>0</td>\n",
       "      <td>0</td>\n",
       "      <td>0</td>\n",
       "      <td>0</td>\n",
       "      <td>0</td>\n",
       "      <td>0</td>\n",
       "      <td>0</td>\n",
       "      <td>0</td>\n",
       "      <td>0</td>\n",
       "      <td>0</td>\n",
       "      <td>0</td>\n",
       "      <td>0</td>\n",
       "      <td>0</td>\n",
       "      <td>0</td>\n",
       "      <td>0</td>\n",
       "      <td>0</td>\n",
       "      <td>0</td>\n",
       "      <td>0</td>\n",
       "      <td>0</td>\n",
       "    </tr>\n",
       "    <tr>\n",
       "      <th>...</th>\n",
       "      <td>...</td>\n",
       "      <td>...</td>\n",
       "      <td>...</td>\n",
       "      <td>...</td>\n",
       "      <td>...</td>\n",
       "      <td>...</td>\n",
       "      <td>...</td>\n",
       "      <td>...</td>\n",
       "      <td>...</td>\n",
       "      <td>...</td>\n",
       "      <td>...</td>\n",
       "      <td>...</td>\n",
       "      <td>...</td>\n",
       "      <td>...</td>\n",
       "      <td>...</td>\n",
       "      <td>...</td>\n",
       "      <td>...</td>\n",
       "      <td>...</td>\n",
       "      <td>...</td>\n",
       "      <td>...</td>\n",
       "      <td>...</td>\n",
       "      <td>...</td>\n",
       "      <td>...</td>\n",
       "      <td>...</td>\n",
       "      <td>...</td>\n",
       "      <td>...</td>\n",
       "      <td>...</td>\n",
       "      <td>...</td>\n",
       "      <td>...</td>\n",
       "      <td>...</td>\n",
       "      <td>...</td>\n",
       "      <td>...</td>\n",
       "      <td>...</td>\n",
       "      <td>...</td>\n",
       "      <td>...</td>\n",
       "      <td>...</td>\n",
       "      <td>...</td>\n",
       "      <td>...</td>\n",
       "      <td>...</td>\n",
       "      <td>...</td>\n",
       "      <td>...</td>\n",
       "      <td>...</td>\n",
       "      <td>...</td>\n",
       "      <td>...</td>\n",
       "      <td>...</td>\n",
       "      <td>...</td>\n",
       "      <td>...</td>\n",
       "      <td>...</td>\n",
       "      <td>...</td>\n",
       "      <td>...</td>\n",
       "      <td>...</td>\n",
       "      <td>...</td>\n",
       "      <td>...</td>\n",
       "      <td>...</td>\n",
       "      <td>...</td>\n",
       "      <td>...</td>\n",
       "      <td>...</td>\n",
       "      <td>...</td>\n",
       "      <td>...</td>\n",
       "      <td>...</td>\n",
       "      <td>...</td>\n",
       "      <td>...</td>\n",
       "      <td>...</td>\n",
       "      <td>...</td>\n",
       "      <td>...</td>\n",
       "      <td>...</td>\n",
       "      <td>...</td>\n",
       "      <td>...</td>\n",
       "      <td>...</td>\n",
       "      <td>...</td>\n",
       "      <td>...</td>\n",
       "      <td>...</td>\n",
       "      <td>...</td>\n",
       "      <td>...</td>\n",
       "      <td>...</td>\n",
       "      <td>...</td>\n",
       "      <td>...</td>\n",
       "      <td>...</td>\n",
       "      <td>...</td>\n",
       "      <td>...</td>\n",
       "      <td>...</td>\n",
       "    </tr>\n",
       "    <tr>\n",
       "      <th>372445</th>\n",
       "      <td>25</td>\n",
       "      <td>0</td>\n",
       "      <td>0</td>\n",
       "      <td>0</td>\n",
       "      <td>0</td>\n",
       "      <td>0</td>\n",
       "      <td>0</td>\n",
       "      <td>0</td>\n",
       "      <td>0</td>\n",
       "      <td>0</td>\n",
       "      <td>0</td>\n",
       "      <td>0</td>\n",
       "      <td>0</td>\n",
       "      <td>0</td>\n",
       "      <td>0</td>\n",
       "      <td>0</td>\n",
       "      <td>0</td>\n",
       "      <td>0</td>\n",
       "      <td>0</td>\n",
       "      <td>0</td>\n",
       "      <td>0</td>\n",
       "      <td>0</td>\n",
       "      <td>0</td>\n",
       "      <td>0</td>\n",
       "      <td>0</td>\n",
       "      <td>0</td>\n",
       "      <td>0</td>\n",
       "      <td>0</td>\n",
       "      <td>0</td>\n",
       "      <td>0</td>\n",
       "      <td>0</td>\n",
       "      <td>0</td>\n",
       "      <td>0</td>\n",
       "      <td>0</td>\n",
       "      <td>0</td>\n",
       "      <td>0</td>\n",
       "      <td>0</td>\n",
       "      <td>0</td>\n",
       "      <td>0</td>\n",
       "      <td>0</td>\n",
       "      <td>...</td>\n",
       "      <td>0</td>\n",
       "      <td>0</td>\n",
       "      <td>0</td>\n",
       "      <td>0</td>\n",
       "      <td>0</td>\n",
       "      <td>0</td>\n",
       "      <td>0</td>\n",
       "      <td>0</td>\n",
       "      <td>0</td>\n",
       "      <td>0</td>\n",
       "      <td>0</td>\n",
       "      <td>0</td>\n",
       "      <td>0</td>\n",
       "      <td>0</td>\n",
       "      <td>0</td>\n",
       "      <td>0</td>\n",
       "      <td>0</td>\n",
       "      <td>0</td>\n",
       "      <td>0</td>\n",
       "      <td>0</td>\n",
       "      <td>0</td>\n",
       "      <td>0</td>\n",
       "      <td>0</td>\n",
       "      <td>0</td>\n",
       "      <td>0</td>\n",
       "      <td>0</td>\n",
       "      <td>0</td>\n",
       "      <td>0</td>\n",
       "      <td>0</td>\n",
       "      <td>0</td>\n",
       "      <td>0</td>\n",
       "      <td>0</td>\n",
       "      <td>0</td>\n",
       "      <td>0</td>\n",
       "      <td>0</td>\n",
       "      <td>0</td>\n",
       "      <td>0</td>\n",
       "      <td>0</td>\n",
       "      <td>0</td>\n",
       "      <td>0</td>\n",
       "    </tr>\n",
       "    <tr>\n",
       "      <th>372446</th>\n",
       "      <td>25</td>\n",
       "      <td>0</td>\n",
       "      <td>0</td>\n",
       "      <td>0</td>\n",
       "      <td>0</td>\n",
       "      <td>0</td>\n",
       "      <td>0</td>\n",
       "      <td>0</td>\n",
       "      <td>0</td>\n",
       "      <td>0</td>\n",
       "      <td>0</td>\n",
       "      <td>0</td>\n",
       "      <td>0</td>\n",
       "      <td>0</td>\n",
       "      <td>0</td>\n",
       "      <td>0</td>\n",
       "      <td>0</td>\n",
       "      <td>0</td>\n",
       "      <td>0</td>\n",
       "      <td>0</td>\n",
       "      <td>0</td>\n",
       "      <td>0</td>\n",
       "      <td>0</td>\n",
       "      <td>0</td>\n",
       "      <td>0</td>\n",
       "      <td>0</td>\n",
       "      <td>0</td>\n",
       "      <td>0</td>\n",
       "      <td>0</td>\n",
       "      <td>0</td>\n",
       "      <td>0</td>\n",
       "      <td>0</td>\n",
       "      <td>0</td>\n",
       "      <td>0</td>\n",
       "      <td>0</td>\n",
       "      <td>0</td>\n",
       "      <td>0</td>\n",
       "      <td>0</td>\n",
       "      <td>0</td>\n",
       "      <td>0</td>\n",
       "      <td>...</td>\n",
       "      <td>0</td>\n",
       "      <td>0</td>\n",
       "      <td>0</td>\n",
       "      <td>0</td>\n",
       "      <td>0</td>\n",
       "      <td>0</td>\n",
       "      <td>0</td>\n",
       "      <td>0</td>\n",
       "      <td>0</td>\n",
       "      <td>0</td>\n",
       "      <td>0</td>\n",
       "      <td>0</td>\n",
       "      <td>0</td>\n",
       "      <td>0</td>\n",
       "      <td>0</td>\n",
       "      <td>0</td>\n",
       "      <td>0</td>\n",
       "      <td>0</td>\n",
       "      <td>0</td>\n",
       "      <td>0</td>\n",
       "      <td>0</td>\n",
       "      <td>0</td>\n",
       "      <td>0</td>\n",
       "      <td>0</td>\n",
       "      <td>0</td>\n",
       "      <td>0</td>\n",
       "      <td>0</td>\n",
       "      <td>0</td>\n",
       "      <td>0</td>\n",
       "      <td>0</td>\n",
       "      <td>0</td>\n",
       "      <td>0</td>\n",
       "      <td>0</td>\n",
       "      <td>0</td>\n",
       "      <td>0</td>\n",
       "      <td>0</td>\n",
       "      <td>0</td>\n",
       "      <td>0</td>\n",
       "      <td>0</td>\n",
       "      <td>0</td>\n",
       "    </tr>\n",
       "    <tr>\n",
       "      <th>372447</th>\n",
       "      <td>25</td>\n",
       "      <td>0</td>\n",
       "      <td>0</td>\n",
       "      <td>0</td>\n",
       "      <td>0</td>\n",
       "      <td>0</td>\n",
       "      <td>0</td>\n",
       "      <td>0</td>\n",
       "      <td>0</td>\n",
       "      <td>0</td>\n",
       "      <td>0</td>\n",
       "      <td>0</td>\n",
       "      <td>0</td>\n",
       "      <td>0</td>\n",
       "      <td>0</td>\n",
       "      <td>0</td>\n",
       "      <td>0</td>\n",
       "      <td>0</td>\n",
       "      <td>0</td>\n",
       "      <td>0</td>\n",
       "      <td>0</td>\n",
       "      <td>0</td>\n",
       "      <td>0</td>\n",
       "      <td>0</td>\n",
       "      <td>0</td>\n",
       "      <td>0</td>\n",
       "      <td>0</td>\n",
       "      <td>0</td>\n",
       "      <td>0</td>\n",
       "      <td>0</td>\n",
       "      <td>0</td>\n",
       "      <td>0</td>\n",
       "      <td>0</td>\n",
       "      <td>0</td>\n",
       "      <td>0</td>\n",
       "      <td>0</td>\n",
       "      <td>0</td>\n",
       "      <td>0</td>\n",
       "      <td>0</td>\n",
       "      <td>0</td>\n",
       "      <td>...</td>\n",
       "      <td>0</td>\n",
       "      <td>0</td>\n",
       "      <td>0</td>\n",
       "      <td>0</td>\n",
       "      <td>0</td>\n",
       "      <td>0</td>\n",
       "      <td>0</td>\n",
       "      <td>0</td>\n",
       "      <td>0</td>\n",
       "      <td>0</td>\n",
       "      <td>0</td>\n",
       "      <td>0</td>\n",
       "      <td>0</td>\n",
       "      <td>0</td>\n",
       "      <td>0</td>\n",
       "      <td>0</td>\n",
       "      <td>0</td>\n",
       "      <td>0</td>\n",
       "      <td>0</td>\n",
       "      <td>0</td>\n",
       "      <td>0</td>\n",
       "      <td>0</td>\n",
       "      <td>0</td>\n",
       "      <td>0</td>\n",
       "      <td>0</td>\n",
       "      <td>0</td>\n",
       "      <td>0</td>\n",
       "      <td>0</td>\n",
       "      <td>0</td>\n",
       "      <td>0</td>\n",
       "      <td>0</td>\n",
       "      <td>0</td>\n",
       "      <td>0</td>\n",
       "      <td>0</td>\n",
       "      <td>0</td>\n",
       "      <td>0</td>\n",
       "      <td>0</td>\n",
       "      <td>0</td>\n",
       "      <td>0</td>\n",
       "      <td>0</td>\n",
       "    </tr>\n",
       "    <tr>\n",
       "      <th>372448</th>\n",
       "      <td>25</td>\n",
       "      <td>0</td>\n",
       "      <td>0</td>\n",
       "      <td>0</td>\n",
       "      <td>0</td>\n",
       "      <td>0</td>\n",
       "      <td>0</td>\n",
       "      <td>0</td>\n",
       "      <td>0</td>\n",
       "      <td>0</td>\n",
       "      <td>0</td>\n",
       "      <td>0</td>\n",
       "      <td>0</td>\n",
       "      <td>0</td>\n",
       "      <td>0</td>\n",
       "      <td>0</td>\n",
       "      <td>0</td>\n",
       "      <td>0</td>\n",
       "      <td>0</td>\n",
       "      <td>0</td>\n",
       "      <td>0</td>\n",
       "      <td>0</td>\n",
       "      <td>0</td>\n",
       "      <td>0</td>\n",
       "      <td>0</td>\n",
       "      <td>0</td>\n",
       "      <td>0</td>\n",
       "      <td>0</td>\n",
       "      <td>0</td>\n",
       "      <td>0</td>\n",
       "      <td>0</td>\n",
       "      <td>0</td>\n",
       "      <td>0</td>\n",
       "      <td>0</td>\n",
       "      <td>0</td>\n",
       "      <td>0</td>\n",
       "      <td>0</td>\n",
       "      <td>0</td>\n",
       "      <td>0</td>\n",
       "      <td>0</td>\n",
       "      <td>...</td>\n",
       "      <td>0</td>\n",
       "      <td>0</td>\n",
       "      <td>0</td>\n",
       "      <td>0</td>\n",
       "      <td>0</td>\n",
       "      <td>0</td>\n",
       "      <td>0</td>\n",
       "      <td>0</td>\n",
       "      <td>0</td>\n",
       "      <td>0</td>\n",
       "      <td>0</td>\n",
       "      <td>0</td>\n",
       "      <td>0</td>\n",
       "      <td>0</td>\n",
       "      <td>0</td>\n",
       "      <td>0</td>\n",
       "      <td>0</td>\n",
       "      <td>0</td>\n",
       "      <td>0</td>\n",
       "      <td>0</td>\n",
       "      <td>0</td>\n",
       "      <td>0</td>\n",
       "      <td>0</td>\n",
       "      <td>0</td>\n",
       "      <td>0</td>\n",
       "      <td>0</td>\n",
       "      <td>0</td>\n",
       "      <td>0</td>\n",
       "      <td>0</td>\n",
       "      <td>0</td>\n",
       "      <td>0</td>\n",
       "      <td>0</td>\n",
       "      <td>0</td>\n",
       "      <td>0</td>\n",
       "      <td>0</td>\n",
       "      <td>0</td>\n",
       "      <td>0</td>\n",
       "      <td>0</td>\n",
       "      <td>0</td>\n",
       "      <td>0</td>\n",
       "    </tr>\n",
       "    <tr>\n",
       "      <th>372449</th>\n",
       "      <td>25</td>\n",
       "      <td>0</td>\n",
       "      <td>0</td>\n",
       "      <td>0</td>\n",
       "      <td>0</td>\n",
       "      <td>0</td>\n",
       "      <td>0</td>\n",
       "      <td>0</td>\n",
       "      <td>0</td>\n",
       "      <td>0</td>\n",
       "      <td>0</td>\n",
       "      <td>0</td>\n",
       "      <td>0</td>\n",
       "      <td>0</td>\n",
       "      <td>0</td>\n",
       "      <td>0</td>\n",
       "      <td>0</td>\n",
       "      <td>0</td>\n",
       "      <td>0</td>\n",
       "      <td>0</td>\n",
       "      <td>0</td>\n",
       "      <td>0</td>\n",
       "      <td>0</td>\n",
       "      <td>0</td>\n",
       "      <td>0</td>\n",
       "      <td>0</td>\n",
       "      <td>0</td>\n",
       "      <td>0</td>\n",
       "      <td>0</td>\n",
       "      <td>0</td>\n",
       "      <td>0</td>\n",
       "      <td>0</td>\n",
       "      <td>0</td>\n",
       "      <td>0</td>\n",
       "      <td>0</td>\n",
       "      <td>0</td>\n",
       "      <td>0</td>\n",
       "      <td>0</td>\n",
       "      <td>0</td>\n",
       "      <td>0</td>\n",
       "      <td>...</td>\n",
       "      <td>0</td>\n",
       "      <td>0</td>\n",
       "      <td>0</td>\n",
       "      <td>0</td>\n",
       "      <td>0</td>\n",
       "      <td>0</td>\n",
       "      <td>0</td>\n",
       "      <td>0</td>\n",
       "      <td>0</td>\n",
       "      <td>0</td>\n",
       "      <td>0</td>\n",
       "      <td>0</td>\n",
       "      <td>0</td>\n",
       "      <td>0</td>\n",
       "      <td>0</td>\n",
       "      <td>0</td>\n",
       "      <td>0</td>\n",
       "      <td>0</td>\n",
       "      <td>0</td>\n",
       "      <td>0</td>\n",
       "      <td>0</td>\n",
       "      <td>0</td>\n",
       "      <td>0</td>\n",
       "      <td>0</td>\n",
       "      <td>0</td>\n",
       "      <td>0</td>\n",
       "      <td>0</td>\n",
       "      <td>0</td>\n",
       "      <td>0</td>\n",
       "      <td>0</td>\n",
       "      <td>0</td>\n",
       "      <td>0</td>\n",
       "      <td>0</td>\n",
       "      <td>0</td>\n",
       "      <td>0</td>\n",
       "      <td>0</td>\n",
       "      <td>0</td>\n",
       "      <td>0</td>\n",
       "      <td>0</td>\n",
       "      <td>0</td>\n",
       "    </tr>\n",
       "  </tbody>\n",
       "</table>\n",
       "<p>372450 rows × 785 columns</p>\n",
       "</div>"
      ],
      "text/plain": [
       "         0  0.1  0.2  0.3  0.4  0.5  ...  0.643  0.644  0.645  0.646  0.647  0.648\n",
       "0        0    0    0    0    0    0  ...      0      0      0      0      0      0\n",
       "1        0    0    0    0    0    0  ...      0      0      0      0      0      0\n",
       "2        0    0    0    0    0    0  ...      0      0      0      0      0      0\n",
       "3        0    0    0    0    0    0  ...      0      0      0      0      0      0\n",
       "4        0    0    0    0    0    0  ...      0      0      0      0      0      0\n",
       "...     ..  ...  ...  ...  ...  ...  ...    ...    ...    ...    ...    ...    ...\n",
       "372445  25    0    0    0    0    0  ...      0      0      0      0      0      0\n",
       "372446  25    0    0    0    0    0  ...      0      0      0      0      0      0\n",
       "372447  25    0    0    0    0    0  ...      0      0      0      0      0      0\n",
       "372448  25    0    0    0    0    0  ...      0      0      0      0      0      0\n",
       "372449  25    0    0    0    0    0  ...      0      0      0      0      0      0\n",
       "\n",
       "[372450 rows x 785 columns]"
      ]
     },
     "execution_count": 6,
     "metadata": {},
     "output_type": "execute_result"
    }
   ],
   "source": [
    "#  seeing the letter dataset\n",
    "letter_data"
   ]
  },
  {
   "cell_type": "code",
   "execution_count": 7,
   "metadata": {
    "id": "_AUshOyTxuN7"
   },
   "outputs": [],
   "source": [
    "#  interpretation of above output - we can see that the letters dataset contains 372450 rows and 785 columns\n",
    "#  means that there are total 372450 instances of images and each image is of a handwritten letter ( from 'A' to 'Z' )\n",
    "#  785 columns for each row means that 1st column denotes the class/label of the image meaning contains -\n",
    "#  - the letter no. (0 to 25) of which the image is\n",
    "#  next 784 columns in each row is the size of each image in pixels --> 28 * 28 pixel image (as 28 * 28 = 784)"
   ]
  },
  {
   "cell_type": "code",
   "execution_count": 8,
   "metadata": {
    "colab": {
     "base_uri": "https://localhost:8080/"
    },
    "id": "w67HU9YvxyxQ",
    "outputId": "c3dca1cb-88d8-439b-adb0-58ede004713f"
   },
   "outputs": [
    {
     "name": "stdout",
     "output_type": "stream",
     "text": [
      "Digits dataset shape : (70000, 785)\n",
      "Letters dataset shape : (372450, 785)\n",
      "\n"
     ]
    }
   ],
   "source": [
    "#  check the shape of digit and letter dataset\n",
    "print(f\"Digits dataset shape : {digit_data.shape}\")\n",
    "print(f\"Letters dataset shape : {letter_data.shape}\\n\")"
   ]
  },
  {
   "cell_type": "code",
   "execution_count": 9,
   "metadata": {
    "id": "ZH_8D66-x8fC"
   },
   "outputs": [],
   "source": [
    "#  above output means that there are total 70000, 372450 examples of images in digit and letter dataset respectively\n",
    "#  and each image is of a handwritten digit/letter ( from 0 to 9 and from 'A' to 'Z' respectively )\n",
    "#  785 columns for each row means that 1st column denotes, - \n",
    "#  - the class/label of the image meaning contains the digit/letter no. of which the image is\n",
    "#  next 784 columns in each row is the size of each image in pixels --> 28 * 28 pixel image (as 28 * 28 = 784)\n",
    "#  and 28*28 means it is a grayscale image i.e. it has no RGB channels otherwise it would have shape 28*28*3"
   ]
  },
  {
   "cell_type": "code",
   "execution_count": 10,
   "metadata": {
    "colab": {
     "base_uri": "https://localhost:8080/"
    },
    "id": "eHQaqOTIyCAe",
    "outputId": "bb37c0bb-1fd1-42eb-df3f-c8f744a13715"
   },
   "outputs": [
    {
     "name": "stdout",
     "output_type": "stream",
     "text": [
      "Digit Image Example : \n",
      "[  0   0   0   0   0   0   0   0   0   0   0   0   0   0   0   0   0   0\n",
      "   0   0   0   0   0   0   0   0   0   0   0   0   0   0   0   0   0   0\n",
      "   0   0   0   0   0   0   0   0   0   0   0   0   0   0   0   0   0   0\n",
      "   0   0   0   0   0   0   0   0   0   0   0   0   0   0   0   0   0   0\n",
      "   0   0   0   0   0   0   0   0   0   0   0   0   0   0   0   0   0   0\n",
      "   0   0   0   0   0   0   0   0   0   0   0   0   0   0   0   0   0   0\n",
      "   0   0   0   0   0   0   0   0   0   0   0   0   0   0   0   0   0   0\n",
      "   0   0   0   0   0   0   0   0   0   0   0   0   0   0   0   0   0   0\n",
      "   0   0   0   0   0   0   0   0   3  18  18  18 126 136 175  26 166 255\n",
      " 247 127   0   0   0   0   0   0   0   0   0   0   0   0  30  36  94 154\n",
      " 170 253 253 253 253 253 225 172 253 242 195  64   0   0   0   0   0   0\n",
      "   0   0   0   0   0  49 238 253 253 253 253 253 253 253 253 251  93  82\n",
      "  82  56  39   0   0   0   0   0   0   0   0   0   0   0   0  18 219 253\n",
      " 253 253 253 253 198 182 247 241   0   0   0   0   0   0   0   0   0   0\n",
      "   0   0   0   0   0   0   0   0  80 156 107 253 253 205  11   0  43 154\n",
      "   0   0   0   0   0   0   0   0   0   0   0   0   0   0   0   0   0   0\n",
      "   0  14   1 154 253  90   0   0   0   0   0   0   0   0   0   0   0   0\n",
      "   0   0   0   0   0   0   0   0   0   0   0   0   0 139 253 190   2   0\n",
      "   0   0   0   0   0   0   0   0   0   0   0   0   0   0   0   0   0   0\n",
      "   0   0   0   0   0  11 190 253  70   0   0   0   0   0   0   0   0   0\n",
      "   0   0   0   0   0   0   0   0   0   0   0   0   0   0   0   0  35 241\n",
      " 225 160 108   1   0   0   0   0   0   0   0   0   0   0   0   0   0   0\n",
      "   0   0   0   0   0   0   0   0   0  81 240 253 253 119  25   0   0   0\n",
      "   0   0   0   0   0   0   0   0   0   0   0   0   0   0   0   0   0   0\n",
      "   0   0  45 186 253 253 150  27   0   0   0   0   0   0   0   0   0   0\n",
      "   0   0   0   0   0   0   0   0   0   0   0   0   0  16  93 252 253 187\n",
      "   0   0   0   0   0   0   0   0   0   0   0   0   0   0   0   0   0   0\n",
      "   0   0   0   0   0   0   0 249 253 249  64   0   0   0   0   0   0   0\n",
      "   0   0   0   0   0   0   0   0   0   0   0   0   0   0  46 130 183 253\n",
      " 253 207   2   0   0   0   0   0   0   0   0   0   0   0   0   0   0   0\n",
      "   0   0   0   0  39 148 229 253 253 253 250 182   0   0   0   0   0   0\n",
      "   0   0   0   0   0   0   0   0   0   0   0   0  24 114 221 253 253 253\n",
      " 253 201  78   0   0   0   0   0   0   0   0   0   0   0   0   0   0   0\n",
      "   0   0  23  66 213 253 253 253 253 198  81   2   0   0   0   0   0   0\n",
      "   0   0   0   0   0   0   0   0   0   0  18 171 219 253 253 253 253 195\n",
      "  80   9   0   0   0   0   0   0   0   0   0   0   0   0   0   0   0   0\n",
      "  55 172 226 253 253 253 253 244 133  11   0   0   0   0   0   0   0   0\n",
      "   0   0   0   0   0   0   0   0   0   0 136 253 253 253 212 135 132  16\n",
      "   0   0   0   0   0   0   0   0   0   0   0   0   0   0   0   0   0   0\n",
      "   0   0   0   0   0   0   0   0   0   0   0   0   0   0   0   0   0   0\n",
      "   0   0   0   0   0   0   0   0   0   0   0   0   0   0   0   0   0   0\n",
      "   0   0   0   0   0   0   0   0   0   0   0   0   0   0   0   0   0   0\n",
      "   0   0   0   0   0   0   0   0   0   0   0   0   0   0   0   0   0   0\n",
      "   0   0   0   0   0   0   0   0   0   0]\n",
      "\n",
      "Digit Label : 5\n"
     ]
    }
   ],
   "source": [
    "#  show a single example from the digit dataset\n",
    "print(f\"Digit Image Example : \\n{digit_data.iloc[0, 1:].values}\\n\")  # iloc is used for indexing in a dataframe, .values shows the values in form of numpy array\n",
    "print(f\"Digit Label : {digit_data.iloc[0][0]}\")  # for printing the label/class of the image"
   ]
  },
  {
   "cell_type": "code",
   "execution_count": 11,
   "metadata": {
    "id": "MYE-VNXByJHs"
   },
   "outputs": [],
   "source": [
    "#  above output shows values of a 28*28 --> 784 pixels image in form of a numpy array and its values are between 0 and 255 \n",
    "#  also it shows that its corresponding label is 5 --> meaning the image is of digit 5"
   ]
  },
  {
   "cell_type": "code",
   "execution_count": 12,
   "metadata": {
    "colab": {
     "base_uri": "https://localhost:8080/",
     "height": 328
    },
    "id": "D3W72_txyQ5i",
    "outputId": "0c31b68d-d594-4517-b4fa-01befa89f396"
   },
   "outputs": [
    {
     "data": {
      "text/plain": [
       "Text(0.5, 1.0, '\\n\\nLabel : 5')"
      ]
     },
     "execution_count": 12,
     "metadata": {},
     "output_type": "execute_result"
    },
    {
     "data": {
      "image/png": "[encoded data removed]",
      "text/plain": [
       "<Figure size 432x288 with 1 Axes>"
      ]
     },
     "metadata": {
      "needs_background": "light"
     },
     "output_type": "display_data"
    }
   ],
   "source": [
    "#  plotting the above example from digit dataset with its label\n",
    "\n",
    "plt.imshow(digit_data.iloc[0, 1:].values.reshape(28, 28), cmap = plt.cm.binary)\n",
    "\n",
    "#  imshow is used for plotting the image, iloc used for indexing in dataframe\n",
    "#  reshape changes the flattened(having only one dimension) pixel matrix back into 28*28 image so we can plot and visualize it \n",
    "#  cm.binary changes the colour of image to black and white\n",
    "\n",
    "plt.title(f\"\\n\\nLabel : {digit_data.iloc[0, 0]}\")  \n",
    "\n",
    "#  making the label of image as title\n",
    "#  0th col contains label for image and plotting the 1st example hence 0th row"
   ]
  },
  {
   "cell_type": "code",
   "execution_count": 13,
   "metadata": {
    "colab": {
     "base_uri": "https://localhost:8080/",
     "height": 328
    },
    "id": "nse_3KmUyT1R",
    "outputId": "80831f14-6f2f-4ae0-b573-21568483d396"
   },
   "outputs": [
    {
     "data": {
      "text/plain": [
       "Text(0.5, 1.0, '\\n\\nLabel : 0')"
      ]
     },
     "execution_count": 13,
     "metadata": {},
     "output_type": "execute_result"
    },
    {
     "data": {
      "image/png": "[encoded data removed]",
      "text/plain": [
       "<Figure size 432x288 with 1 Axes>"
      ]
     },
     "metadata": {
      "needs_background": "light"
     },
     "output_type": "display_data"
    }
   ],
   "source": [
    "#  plotting an example from the letter dataset\n",
    "\n",
    "plt.imshow(letter_data.iloc[0, 1:].values.reshape(28, 28), cmap = plt.cm.binary)\n",
    "plt.title(f\"\\n\\nLabel : {letter_data.iloc[0, 0]}\")  \n",
    "\n",
    "#  making the label of the image as title, using 0th column because it contains the label of the image,\n",
    "#  and 0th row because of 1st instance"
   ]
  },
  {
   "cell_type": "code",
   "execution_count": 14,
   "metadata": {
    "colab": {
     "base_uri": "https://localhost:8080/",
     "height": 328
    },
    "id": "SDC-nAp7yXM3",
    "outputId": "b9d11f9e-a76e-4d48-bf40-d939c81608c1"
   },
   "outputs": [
    {
     "data": {
      "text/plain": [
       "Text(0.5, 1.0, '\\n\\nLabel : A')"
      ]
     },
     "execution_count": 14,
     "metadata": {},
     "output_type": "execute_result"
    },
    {
     "data": {
      "image/png": "[encoded data removed]",
      "text/plain": [
       "<Figure size 432x288 with 1 Axes>"
      ]
     },
     "metadata": {
      "needs_background": "light"
     },
     "output_type": "display_data"
    }
   ],
   "source": [
    "#  above output gives label for 'A' as 0 as labels are in numerical form from 0 to 25 for letters\n",
    "#  as labels are in numerical form, for printing it in human readable form we add 65 to it (as 65 to 90 in char is 'A' to 'Z')\n",
    "\n",
    "plt.imshow(letter_data.iloc[0, 1:].values.reshape(28, 28), cmap = plt.cm.binary)\n",
    "plt.title(f\"\\n\\nLabel : {chr(letter_data.iloc[0, 0] + 65)}\")"
   ]
  },
  {
   "cell_type": "code",
   "execution_count": 15,
   "metadata": {
    "colab": {
     "base_uri": "https://localhost:8080/"
    },
    "id": "oMnATaW6yZwJ",
    "outputId": "92cee421-84d5-4f0b-eac1-479b73c2cd1a"
   },
   "outputs": [
    {
     "name": "stdout",
     "output_type": "stream",
     "text": [
      "Counts of labels in the digit dataset\n",
      "\n"
     ]
    },
    {
     "data": {
      "text/plain": [
       "0    6903\n",
       "1    7877\n",
       "2    6990\n",
       "3    7141\n",
       "4    6824\n",
       "5    6313\n",
       "6    6876\n",
       "7    7293\n",
       "8    6825\n",
       "9    6958\n",
       "Name: label, dtype: int64"
      ]
     },
     "execution_count": 15,
     "metadata": {},
     "output_type": "execute_result"
    }
   ],
   "source": [
    "#  see the counts of each label/class (0 to 9) in the digit dataset, label 0 is for digit 0, 1 for digit 1, ... 9 for digit 9 \n",
    "\n",
    "print(\"Counts of labels in the digit dataset\\n\")\n",
    "(digit_data['label'].value_counts()).sort_index(inplace = False)  \n",
    "\n",
    "#  value_counts returns count of unique values, in this case labels\n",
    "#  using 'label' as it's name of the 0th col which has labels"
   ]
  },
  {
   "cell_type": "code",
   "execution_count": 16,
   "metadata": {
    "colab": {
     "base_uri": "https://localhost:8080/"
    },
    "id": "a9c6Y4ONyeRA",
    "outputId": "b93b6902-0197-4509-90f0-b69ddb3a061e"
   },
   "outputs": [
    {
     "name": "stdout",
     "output_type": "stream",
     "text": [
      "Counts of labels in the letters dataset\n",
      "\n"
     ]
    },
    {
     "data": {
      "text/plain": [
       "0     13869\n",
       "1      8668\n",
       "2     23409\n",
       "3     10134\n",
       "4     11440\n",
       "5      1163\n",
       "6      5762\n",
       "7      7218\n",
       "8      1120\n",
       "9      8493\n",
       "10     5603\n",
       "11    11586\n",
       "12    12336\n",
       "13    19010\n",
       "14    57825\n",
       "15    19341\n",
       "16     5812\n",
       "17    11566\n",
       "18    48419\n",
       "19    22495\n",
       "20    29008\n",
       "21     4182\n",
       "22    10784\n",
       "23     6272\n",
       "24    10859\n",
       "25     6076\n",
       "Name: 0, dtype: int64"
      ]
     },
     "execution_count": 16,
     "metadata": {},
     "output_type": "execute_result"
    }
   ],
   "source": [
    "#  check counts of each label/class (0 to 25) in the letter dataset, label 0 is for letter 'A', 1 for letter 'B', ... 25 for letter 'Z' \n",
    "\n",
    "print(\"Counts of labels in the letters dataset\\n\")\n",
    "(letter_data['0'].value_counts()).sort_index(inplace = False)  \n",
    "\n",
    "#  value_counts returns count of unique values, in this case labels, using '0' as 0th col is for labels and its name is '0' in dataset"
   ]
  },
  {
   "cell_type": "code",
   "execution_count": 17,
   "metadata": {
    "colab": {
     "base_uri": "https://localhost:8080/",
     "height": 393
    },
    "id": "hZPtjWWUykQ3",
    "outputId": "8d8cc3b1-6ac4-46d9-dd56-5656be62a57f"
   },
   "outputs": [
    {
     "data": {
      "text/plain": [
       "<matplotlib.axes._subplots.AxesSubplot at 0x7feba469b050>"
      ]
     },
     "execution_count": 17,
     "metadata": {},
     "output_type": "execute_result"
    },
    {
     "data": {
      "image/png": "[encoded data removed]",
      "text/plain": [
       "<Figure size 360x360 with 1 Axes>"
      ]
     },
     "metadata": {
      "needs_background": "light"
     },
     "output_type": "display_data"
    }
   ],
   "source": [
    "#  visualizing the above count of classes in each dataset using a bar plot for analysis\n",
    "\n",
    "#  for digit dataset\n",
    "plt.figure(figsize=(5, 5))  # set figure size\n",
    "plt.xlabel( 'Labels')  # set x-axis\n",
    "plt.ylabel('Count')  # set y-axis\n",
    "plt.title('\\n\\nDigit Dataset')  # set title\n",
    "digit_data['label'].value_counts().sort_index(inplace = False).plot(kind = 'bar')  # kind of plot is barplot "
   ]
  },
  {
   "cell_type": "code",
   "execution_count": 18,
   "metadata": {
    "colab": {
     "base_uri": "https://localhost:8080/",
     "height": 563
    },
    "id": "t0Jlww5pysFZ",
    "outputId": "f20e2b85-4498-4771-8b67-8139529c02c2"
   },
   "outputs": [
    {
     "data": {
      "text/plain": [
       "<matplotlib.axes._subplots.AxesSubplot at 0x7feba469ba10>"
      ]
     },
     "execution_count": 18,
     "metadata": {},
     "output_type": "execute_result"
    },
    {
     "data": {
      "image/png": "[encoded data removed]",
      "text/plain": [
       "<Figure size 576x576 with 1 Axes>"
      ]
     },
     "metadata": {
      "needs_background": "light"
     },
     "output_type": "display_data"
    }
   ],
   "source": [
    "#  for letter dataset\n",
    "plt.figure(figsize=(8, 8))\n",
    "plt.xlabel(\"Labels\")\n",
    "plt.ylabel(\"Count\")\n",
    "plt.title(\"\\n\\nLetters Dataset\")\n",
    "letter_data['0'].value_counts().sort_index(inplace = False).plot(kind = 'bar')  # makes barplot"
   ]
  },
  {
   "cell_type": "code",
   "execution_count": 19,
   "metadata": {
    "id": "pi1vzr4Fywju"
   },
   "outputs": [],
   "source": [
    "#  above barplots show that\n",
    "#  the classes in digit dataset is balanced\n",
    "#  but classes in letter dataset is unbalanced --> \n",
    "#  images of some letters are very high, and some are low --> this can affect our result badly\n",
    "#  so we do resampling while preprocessing to handle it"
   ]
  },
  {
   "cell_type": "markdown",
   "metadata": {
    "id": "gDIZkeKqrIV4"
   },
   "source": [
    "### **Preprocessing the Data**"
   ]
  },
  {
   "cell_type": "code",
   "execution_count": 20,
   "metadata": {
    "id": "crKdJgL9rHmZ"
   },
   "outputs": [],
   "source": [
    "#  Renaming the 0th column of both dataset to 'label' (for easy understanding) as it contains labels for images\n",
    "\n",
    "digit_data.rename(columns = {'0' : 'label'}, inplace = True)  # inplace makes cahnges to original dataset\n",
    "letter_data.rename(columns = {'0' : 'label'}, inplace = True)"
   ]
  },
  {
   "cell_type": "code",
   "execution_count": 21,
   "metadata": {
    "id": "6GMsVQ2QrcWw"
   },
   "outputs": [],
   "source": [
    "#  Resampling the dataset by taking 1000 samples of each class to make the classes balanced\n",
    "\n",
    "digit_data = digit_data.groupby('label').head(1000)\n",
    "letter_data = letter_data.groupby('label').head(1000)"
   ]
  },
  {
   "cell_type": "code",
   "execution_count": 22,
   "metadata": {
    "colab": {
     "base_uri": "https://localhost:8080/"
    },
    "id": "nYdpywpcrfP2",
    "outputId": "c43ef3d9-74b8-42ce-d993-fb53a5f2b2f2"
   },
   "outputs": [
    {
     "name": "stdout",
     "output_type": "stream",
     "text": [
      "Digit Data Shape : (10000, 785)\n",
      "\n",
      "Letter Data Shape : (26000, 785)\n"
     ]
    }
   ],
   "source": [
    "#  checking the shape of datasets after resampling\n",
    "\n",
    "print(f\"Digit Data Shape : {digit_data.shape}\\n\")\n",
    "print(f\"Letter Data Shape : {letter_data.shape}\")"
   ]
  },
  {
   "cell_type": "code",
   "execution_count": 23,
   "metadata": {
    "colab": {
     "base_uri": "https://localhost:8080/",
     "height": 563
    },
    "id": "khamQ4mErjQN",
    "outputId": "abf9382c-1030-4d4c-bca5-0d70729ce152"
   },
   "outputs": [
    {
     "data": {
      "text/plain": [
       "<matplotlib.axes._subplots.AxesSubplot at 0x7feba6250950>"
      ]
     },
     "execution_count": 23,
     "metadata": {},
     "output_type": "execute_result"
    },
    {
     "data": {
      "image/png": "[encoded data removed]",
      "text/plain": [
       "<Figure size 576x576 with 1 Axes>"
      ]
     },
     "metadata": {
      "needs_background": "light"
     },
     "output_type": "display_data"
    }
   ],
   "source": [
    "#  again plot bargraphs for datasets to check for balance between classes\n",
    "\n",
    "#  for letter dataset\n",
    "plt.figure(figsize=(8, 8))\n",
    "plt.xlabel(\"Labels\")\n",
    "plt.ylabel(\"Count\")\n",
    "plt.title(\"\\n\\nLetters Dataset\")\n",
    "letter_data['label'].value_counts().sort_index(inplace = False).plot(kind = 'bar')  # makes barplot"
   ]
  },
  {
   "cell_type": "code",
   "execution_count": 24,
   "metadata": {
    "colab": {
     "base_uri": "https://localhost:8080/",
     "height": 393
    },
    "id": "0BR3n2PGrn_b",
    "outputId": "7b1ddee1-fca0-496e-8cfd-bb2588f3a7f0"
   },
   "outputs": [
    {
     "data": {
      "text/plain": [
       "<matplotlib.axes._subplots.AxesSubplot at 0x7feba5bf5390>"
      ]
     },
     "execution_count": 24,
     "metadata": {},
     "output_type": "execute_result"
    },
    {
     "data": {
      "image/png": "[encoded data removed]",
      "text/plain": [
       "<Figure size 360x360 with 1 Axes>"
      ]
     },
     "metadata": {
      "needs_background": "light"
     },
     "output_type": "display_data"
    }
   ],
   "source": [
    "#  for digit dataset\n",
    "plt.figure(figsize=(5, 5))  # set figure size\n",
    "plt.xlabel( 'Labels')  # set x-axis\n",
    "plt.ylabel('Count')  # set y-axis\n",
    "plt.title('\\n\\nDigit Dataset')  # set title\n",
    "digit_data['label'].value_counts().sort_index(inplace = False).plot(kind = 'bar')  # kind of plot is barplot "
   ]
  },
  {
   "cell_type": "code",
   "execution_count": 25,
   "metadata": {
    "id": "nXVPhaSprsqF"
   },
   "outputs": [],
   "source": [
    "#  Splitting the datasets into features and Labels for both digits and letters\n",
    "#  X is for features, y is for labels\n",
    "\n",
    "#  for digits\n",
    "X_digit = digit_data.drop('label', axis = 1)    # means take all columns except the first col which contains labels\n",
    "y_digit = digit_data['label']                     # takes only the 1st col which has labels for images\n",
    "\n",
    "#  for letters\n",
    "X_letter = letter_data.drop('label', axis = 1)\n",
    "y_letter =   letter_data['label']                 # takes only the col of labels"
   ]
  },
  {
   "cell_type": "markdown",
   "metadata": {
    "id": "60eJFbqfFTsG"
   },
   "source": []
  },
  {
   "cell_type": "code",
   "execution_count": 26,
   "metadata": {
    "id": "jP0EnnJrr86H"
   },
   "outputs": [],
   "source": [
    "#  now we split the data into training and test data\n",
    "\n",
    "from sklearn.model_selection import train_test_split  # for splitting data into train and test\n",
    "\n",
    "#  for digits\n",
    "X_train_dig, X_test_dig, y_train_dig, y_test_dig = train_test_split(X_digit, y_digit, test_size = 0.2)  # means 20% data goes into testing part, 80% for training\n",
    "\n",
    "#  for letters\n",
    "X_train_let, X_test_let, y_train_let, y_test_let = train_test_split(X_letter, y_letter, test_size = 0.2)  # means 20% for test, 80% for training model "
   ]
  },
  {
   "cell_type": "markdown",
   "metadata": {
    "id": "aTKs4ob-FauE"
   },
   "source": []
  },
  {
   "cell_type": "code",
   "execution_count": 27,
   "metadata": {
    "colab": {
     "base_uri": "https://localhost:8080/"
    },
    "id": "uKlywI-qsEO-",
    "outputId": "a1ad99f7-9828-4db9-de4d-6d46ff3ef47f"
   },
   "outputs": [
    {
     "name": "stdout",
     "output_type": "stream",
     "text": [
      "Type before conversion : <class 'pandas.core.frame.DataFrame'>\n",
      "\n",
      "Type after conversion : <class 'numpy.ndarray'>\n",
      "\n"
     ]
    }
   ],
   "source": [
    "#  we convert dataframe into numpy arrays for easy preprocessing, normalization\n",
    "\n",
    "#  check type before conversion\n",
    "print(f\"Type before conversion : {type(X_train_dig)}\\n\")\n",
    "\n",
    "X_train_dig = X_train_dig.to_numpy()  # to_numpy converts the dataframe into numpy array\n",
    "X_test_dig = X_test_dig.to_numpy()\n",
    "X_train_let = X_train_let.to_numpy()\n",
    "X_test_let = X_test_let.to_numpy()\n",
    "\n",
    "print(f\"Type after conversion : {type(X_train_dig)}\\n\")"
   ]
  },
  {
   "cell_type": "code",
   "execution_count": 28,
   "metadata": {
    "colab": {
     "base_uri": "https://localhost:8080/"
    },
    "id": "pCsslyONsHOt",
    "outputId": "c3e60665-77d6-4d36-dba8-522420d80bd6"
   },
   "outputs": [
    {
     "name": "stdout",
     "output_type": "stream",
     "text": [
      "Total Classes : 36\n",
      "\n"
     ]
    }
   ],
   "source": [
    "#  total we have 36 classes --> 10 for digits, 26 for letters but they are in numerical form in labels\n",
    "#  so we make a list containing the actual label in a list\n",
    "\n",
    "class_names = ['0', '1', '2', '3', '4', '5', '6', '7', '8', '9',\n",
    "               'A', 'B', 'C', 'D', 'E', 'F', 'G', 'H', 'I', 'J', 'K', 'L', 'M', 'N', 'O', 'P', 'Q', 'R', 'S', 'T', 'U', 'V', 'W', 'X', 'Y', 'Z']\n",
    "\n",
    "#  checking total classes\n",
    "print(f\"Total Classes : {len(class_names)}\\n\")"
   ]
  },
  {
   "cell_type": "code",
   "execution_count": 29,
   "metadata": {
    "id": "yC98RpQZsM7h"
   },
   "outputs": [],
   "source": [
    "#  As the labels of letters are from 0 to 25, but total classes are 36, \n",
    "#  so we add 10 to labels of letters to make them from 10 to 35 --> \n",
    "#  then from 0 to 9 labels are of digits, and from 10 to 35 labels are of letters \n",
    "\n",
    "y_train_let = y_train_let + 10\n",
    "y_test_let = y_test_let + 10"
   ]
  },
  {
   "cell_type": "code",
   "execution_count": 30,
   "metadata": {
    "colab": {
     "base_uri": "https://localhost:8080/"
    },
    "id": "Lgk2Ah7lsS8K",
    "outputId": "bf961d8d-1799-4004-d017-4bb35d17ad6a"
   },
   "outputs": [
    {
     "name": "stdout",
     "output_type": "stream",
     "text": [
      "shape before one-hot encoding(8000,)\n",
      "\n",
      "shape after one-hot encoding(8000, 36)\n",
      "\n"
     ]
    }
   ],
   "source": [
    "#  till now the labels are in a single array\n",
    "#  so we convert labels into one-hot encoding which removes the integer encoding \n",
    "#  and a new binary variable is added for each unique integer value\n",
    "\n",
    "from tensorflow.keras.utils import to_categorical  # for converting into categorical data\n",
    "\n",
    "print(f\"shape before one-hot encoding{y_train_dig.shape}\\n\")\n",
    "\n",
    "y_train_dig = to_categorical(y_train_dig, num_classes = 36)  # will create 36 columns for each class\n",
    "y_test_dig = to_categorical(y_test_dig, num_classes = 36)    # and only one column will be true in each row corresponding to the image\n",
    "y_train_let = to_categorical(y_train_let, num_classes = 36)\n",
    "y_test_let = to_categorical(y_test_let, num_classes = 36)\n",
    "\n",
    "print(f\"shape after one-hot encoding{y_train_dig.shape}\\n\")"
   ]
  },
  {
   "cell_type": "code",
   "execution_count": 31,
   "metadata": {
    "id": "HIjeGuMksWeM"
   },
   "outputs": [],
   "source": [
    "#  combining training and testing data from both datasets into a single dataset\n",
    "\n",
    "X_train = np.concatenate((X_train_dig, X_train_let), axis = 0)  # concatenate merges the datasets which are in form of numpy array \n",
    "X_test  = np.concatenate((X_test_dig, X_test_let), axis = 0)\n",
    "y_train = np.concatenate((y_train_dig, y_train_let), axis = 0)\n",
    "y_test  = np.concatenate((y_test_dig, y_test_let), axis = 0)"
   ]
  },
  {
   "cell_type": "markdown",
   "metadata": {
    "id": "UYC-vTquFevl"
   },
   "source": []
  },
  {
   "cell_type": "code",
   "execution_count": 32,
   "metadata": {
    "colab": {
     "base_uri": "https://localhost:8080/"
    },
    "id": "dGrAMxV1sepk",
    "outputId": "fb7e5fbf-ab5f-4fc0-bb9f-bc9b8f4f3ffb"
   },
   "outputs": [
    {
     "name": "stdout",
     "output_type": "stream",
     "text": [
      "before normalizing, max :, min : (255, 0)\n",
      "\n",
      "after normalizing, max :, min : (1.0, 0.0)\n",
      "\n"
     ]
    }
   ],
   "source": [
    "#  normalize the features to reduce complexity of the model \n",
    "#  divide by max value of the features numpy array to get normalized data\n",
    "\n",
    "print(f\"before normalizing, max :, min : {X_train[0].max(), X_train[0].min()}\\n\")\n",
    "\n",
    "#  as the pixel values are betweem 0 and 255, so max value becomes 255\n",
    "X_train = X_train / 255.0\n",
    "X_test = X_test / 255.0\n",
    "\n",
    "print(f\"after normalizing, max :, min : {X_train[0].max(), X_train[0].min()}\\n\")\n"
   ]
  },
  {
   "cell_type": "markdown",
   "metadata": {
    "id": "Joyy-Ms1u2wP"
   },
   "source": [
    "### **Plotting some random images from the dataset**"
   ]
  },
  {
   "cell_type": "code",
   "execution_count": 33,
   "metadata": {
    "colab": {
     "base_uri": "https://localhost:8080/",
     "height": 499
    },
    "id": "DKOK-KNysfJg",
    "outputId": "1203ab93-40dd-4799-8f64-d7609e5fd892"
   },
   "outputs": [
    {
     "data": {
      "image/png": "[encoded data removed]",
      "text/plain": [
       "<Figure size 576x576 with 4 Axes>"
      ]
     },
     "metadata": {
      "needs_background": "light"
     },
     "output_type": "display_data"
    }
   ],
   "source": [
    "#  plot some random images with labels, from the combined training data of letters and digits\n",
    "#  same prediction has to be done by model on testing data\n",
    "\n",
    "import random                                                     # for getting a random value\n",
    "plt.figure(figsize = (8, 8))                                      # size of the main figure\n",
    "\n",
    "for i in range(4) :                                               # taking 4 bacause we want to plot 4 random iamges\n",
    "  \n",
    "  ind = random.choice(range(len(X_train)))                        # from the length of training data, gives a random integer\n",
    "  a = plt.subplot(2, 2, i+1)                                      # means 2 rows, 2 columns in the figure and iterate through it \n",
    "\n",
    "  plt.imshow(X_train[ind].reshape(28, 28), cmap = plt.cm.binary)  # reshaping(original shape is unchanged) pixel array into 28*28 to plot\n",
    "  plt.title(class_names[y_train[ind].argmax()])                   # making title of plot as label from the y_train (classes) array"
   ]
  },
  {
   "cell_type": "markdown",
   "metadata": {
    "id": "rfhh4F37Iiiz"
   },
   "source": [
    "\n"
   ]
  },
  {
   "cell_type": "markdown",
   "metadata": {
    "id": "UC3x8PBIQXGo"
   },
   "source": [
    "### **Building a simple or fully connected neural network model**"
   ]
  },
  {
   "cell_type": "code",
   "execution_count": 34,
   "metadata": {
    "colab": {
     "base_uri": "https://localhost:8080/"
    },
    "id": "aVo6pAr0IfEu",
    "outputId": "4d5054e0-c0a1-428f-c57d-6a40159c6fae"
   },
   "outputs": [
    {
     "data": {
      "text/plain": [
       "(28800, 784)"
      ]
     },
     "execution_count": 34,
     "metadata": {},
     "output_type": "execute_result"
    }
   ],
   "source": [
    "#  check shape of training data which will be given to model\n",
    "X_train.shape"
   ]
  },
  {
   "cell_type": "code",
   "execution_count": 35,
   "metadata": {
    "id": "vsfJzYy6IZ1R"
   },
   "outputs": [],
   "source": [
    "from keras.models import Sequential             #  importing the type of model \n",
    "from keras.layers import Input, Dense, Dropout  #  importing the layers to use in model"
   ]
  },
  {
   "cell_type": "code",
   "execution_count": 36,
   "metadata": {
    "id": "G5lKtKP1QxNi"
   },
   "outputs": [],
   "source": [
    "#  Building a Sequential model --> used to create a linear stack of layers\n",
    "#  Sequential model is used to create a layer by layer model, output of previous layer is fed to new layer\n",
    "\n",
    "#  set the random seed for reproducability of results\n",
    "tf.random.set_seed(42)  #  this helps to produce same results which are randomly generated\n",
    "\n",
    "#  Define the Seqential model, assigned to a varibale\n",
    "nn_model_1 = Sequential()   \n",
    "\n",
    "#  adding layers to the model\n",
    "\n",
    "#  input layer, shape of training data is (28800, 784)\n",
    "#  as features are already in a 1d array, we dont need to flatten the input\n",
    "nn_model_1.add(Input(shape = (784, )))  #  784 means no of features in each input sample/image, it's the col dimension of input matrix\n",
    "\n",
    "#  adding two dense layers --> deeply connected neural network layer -- they identify features from the input data\n",
    "nn_model_1.add(Dense(50, activation = \"relu\"))  #  50 is no of neurons, 'relu' provides non-linearities in the model\n",
    "nn_model_1.add(Dense(25, activation = \"relu\"))  #  25 is no of neurons in this hidden layer \n",
    "\n",
    "#  output layer\n",
    "nn_model_1.add(Dense(36, activation = \"softmax\"))  #  as total classes are 36, also softmax is used for multi-class"
   ]
  },
  {
   "cell_type": "code",
   "execution_count": 37,
   "metadata": {
    "colab": {
     "base_uri": "https://localhost:8080/"
    },
    "id": "5OUQD1QQQ2Q_",
    "outputId": "ece85bcc-6b3c-4934-c32e-c7b3bbedd6dc"
   },
   "outputs": [
    {
     "name": "stdout",
     "output_type": "stream",
     "text": [
      "Model: \"sequential\"\n",
      "_________________________________________________________________\n",
      "Layer (type)                 Output Shape              Param #   \n",
      "=================================================================\n",
      "dense (Dense)                (None, 50)                39250     \n",
      "_________________________________________________________________\n",
      "dense_1 (Dense)              (None, 25)                1275      \n",
      "_________________________________________________________________\n",
      "dense_2 (Dense)              (None, 36)                936       \n",
      "=================================================================\n",
      "Total params: 41,461\n",
      "Trainable params: 41,461\n",
      "Non-trainable params: 0\n",
      "_________________________________________________________________\n"
     ]
    }
   ],
   "source": [
    "#  see the summary of the model\n",
    "\n",
    "nn_model_1.summary()  #  shows layers in the model"
   ]
  },
  {
   "cell_type": "code",
   "execution_count": 38,
   "metadata": {
    "id": "8VCCHwboQ42i"
   },
   "outputs": [],
   "source": [
    "#  compile the sequential model\n",
    "\n",
    "nn_model_1.compile(loss = \"categorical_crossentropy\", metrics = \"accuracy\", optimizer = \"adam\") \n",
    "\n",
    "#  as labels are one-hot encoded, loss function is categorical cross entropy for multi-class\n",
    "#  optimizer is adam for doig optimization -->\n",
    "#  which changes attributes of neural network to reduce the losses and give most accurate results\n",
    "#  as no of classes are balanced, so accuracy can be used as an evaluation metric"
   ]
  },
  {
   "cell_type": "code",
   "execution_count": 39,
   "metadata": {
    "colab": {
     "base_uri": "https://localhost:8080/"
    },
    "id": "ldV_yPJGQ9Zo",
    "outputId": "fb5b7f55-8ff7-4551-c0c4-1a19e1287c2b"
   },
   "outputs": [
    {
     "name": "stdout",
     "output_type": "stream",
     "text": [
      "Epoch 1/25\n",
      "900/900 [==============================] - 2s 2ms/step - loss: 1.3554 - accuracy: 0.6372\n",
      "Epoch 2/25\n",
      "900/900 [==============================] - 1s 2ms/step - loss: 0.6468 - accuracy: 0.8210\n",
      "Epoch 3/25\n",
      "900/900 [==============================] - 1s 2ms/step - loss: 0.5183 - accuracy: 0.8543\n",
      "Epoch 4/25\n",
      "900/900 [==============================] - 1s 2ms/step - loss: 0.4462 - accuracy: 0.8725\n",
      "Epoch 5/25\n",
      "900/900 [==============================] - 1s 2ms/step - loss: 0.3993 - accuracy: 0.8849\n",
      "Epoch 6/25\n",
      "900/900 [==============================] - 1s 2ms/step - loss: 0.3587 - accuracy: 0.8969\n",
      "Epoch 7/25\n",
      "900/900 [==============================] - 1s 2ms/step - loss: 0.3318 - accuracy: 0.9026\n",
      "Epoch 8/25\n",
      "900/900 [==============================] - 1s 2ms/step - loss: 0.3066 - accuracy: 0.9111\n",
      "Epoch 9/25\n",
      "900/900 [==============================] - 1s 2ms/step - loss: 0.2830 - accuracy: 0.9165\n",
      "Epoch 10/25\n",
      "900/900 [==============================] - 1s 2ms/step - loss: 0.2697 - accuracy: 0.9186\n",
      "Epoch 11/25\n",
      "900/900 [==============================] - 1s 2ms/step - loss: 0.2530 - accuracy: 0.9237\n",
      "Epoch 12/25\n",
      "900/900 [==============================] - 1s 2ms/step - loss: 0.2395 - accuracy: 0.9285\n",
      "Epoch 13/25\n",
      "900/900 [==============================] - 1s 2ms/step - loss: 0.2293 - accuracy: 0.9305\n",
      "Epoch 14/25\n",
      "900/900 [==============================] - 1s 2ms/step - loss: 0.2152 - accuracy: 0.9351\n",
      "Epoch 15/25\n",
      "900/900 [==============================] - 1s 2ms/step - loss: 0.2052 - accuracy: 0.9372\n",
      "Epoch 16/25\n",
      "900/900 [==============================] - 1s 2ms/step - loss: 0.1939 - accuracy: 0.9421\n",
      "Epoch 17/25\n",
      "900/900 [==============================] - 1s 2ms/step - loss: 0.1871 - accuracy: 0.9433\n",
      "Epoch 18/25\n",
      "900/900 [==============================] - 1s 2ms/step - loss: 0.1770 - accuracy: 0.9457\n",
      "Epoch 19/25\n",
      "900/900 [==============================] - 1s 2ms/step - loss: 0.1704 - accuracy: 0.9469\n",
      "Epoch 20/25\n",
      "900/900 [==============================] - 1s 2ms/step - loss: 0.1626 - accuracy: 0.9499\n",
      "Epoch 21/25\n",
      "900/900 [==============================] - 1s 2ms/step - loss: 0.1572 - accuracy: 0.9500\n",
      "Epoch 22/25\n",
      "900/900 [==============================] - 1s 2ms/step - loss: 0.1527 - accuracy: 0.9524\n",
      "Epoch 23/25\n",
      "900/900 [==============================] - 1s 2ms/step - loss: 0.1451 - accuracy: 0.9542\n",
      "Epoch 24/25\n",
      "900/900 [==============================] - 1s 2ms/step - loss: 0.1369 - accuracy: 0.9563\n",
      "Epoch 25/25\n",
      "900/900 [==============================] - 1s 2ms/step - loss: 0.1332 - accuracy: 0.9570\n"
     ]
    },
    {
     "data": {
      "text/plain": [
       "<keras.callbacks.History at 0x7feba545cd50>"
      ]
     },
     "execution_count": 39,
     "metadata": {},
     "output_type": "execute_result"
    }
   ],
   "source": [
    "#  train the model using model.fit() and training data\n",
    "\n",
    "#  training data is X_train, y_train which contains features/pixels of images and corresponding labels respectively\n",
    "#  validation_parameter can also be used to give an idea of how model performs on test data during training\n",
    "#  epochs mean no of times the model will work/pass through the entire training data\n",
    "#  taking default batch-size of 32\n",
    "#  batch-size is no of samples from training data which will be worked before updation of internal model parameters\n",
    "\n",
    "nn_model_1.fit(X_train, y_train, epochs = 25)"
   ]
  },
  {
   "cell_type": "code",
   "execution_count": 40,
   "metadata": {
    "colab": {
     "base_uri": "https://localhost:8080/"
    },
    "id": "tTX42GSiRCaz",
    "outputId": "bac6e4b7-6b77-4bb3-f7f2-e952770688d4"
   },
   "outputs": [
    {
     "name": "stdout",
     "output_type": "stream",
     "text": [
      "225/225 [==============================] - 0s 1ms/step - loss: 0.4273 - accuracy: 0.8882\n",
      "\n",
      "Neural Network Model 1, Accuracy  : 0.8881944417953491 \n",
      "\n",
      "Neural Network Model 1, Loss  : 0.42728739976882935 \n",
      "\n"
     ]
    }
   ],
   "source": [
    "#  Evaluate the model on the test data (X_test, y_test)\n",
    "\n",
    "#  model will run on test data and predict classes of test data and prediction will be matched with y_test to give accuracy\n",
    "test_model = nn_model_1.evaluate(X_test, y_test)\n",
    "print(f\"\\nNeural Network Model 1, Accuracy  : {test_model[1]} \\n\")\n",
    "print(f\"Neural Network Model 1, Loss  : {test_model[0]} \\n\")"
   ]
  },
  {
   "cell_type": "markdown",
   "metadata": {
    "id": "7zsj_CvcRpMp"
   },
   "source": [
    "### **Improving the simple neural network model**"
   ]
  },
  {
   "cell_type": "code",
   "execution_count": 41,
   "metadata": {
    "id": "bKlnpN_DRRCk"
   },
   "outputs": [],
   "source": [
    "#  to improve accuracy of the above model, we add more dense layers and train for longer \n",
    "#  also can add dropout layer to prevent overfitting\n",
    "\n",
    "#  set the random seed for reproducability of results\n",
    "tf.random.set_seed(42)\n",
    "\n",
    "#  Define the Seqential model - linear stack of layers\n",
    "nn_model_2 = Sequential()   \n",
    "\n",
    "#  input layer, shape of training data is (28800, 784)\n",
    "nn_model_2.add(Input(shape = (784, )))  #  784 means no of features in each input sample/image\n",
    "\n",
    "#  adding 4 dense layers with dropout layer to avoid overfitting\n",
    "nn_model_2.add(Dense(100, activation = \"relu\"))  #  'relu' provides non-linearities in the model\n",
    "nn_model_2.add(Dense(75, activation = \"relu\"))\n",
    "\n",
    "nn_model_2.add(Dropout(0.1))                     #  to prevent from overfitting \n",
    "#  specifies proportion of neurons in preceding dense layer that should take 0 value, 0.1 means 10% neurons\n",
    "\n",
    "nn_model_2.add(Dense(50, activation = \"relu\"))\n",
    "nn_model_2.add(Dense(25, activation = \"relu\"))\n",
    "\n",
    "#  output layer\n",
    "nn_model_2.add(Dense(36, activation = \"softmax\"))  #  as total classes are 36, also softmax is used for multi-class"
   ]
  },
  {
   "cell_type": "code",
   "execution_count": 42,
   "metadata": {
    "colab": {
     "base_uri": "https://localhost:8080/"
    },
    "id": "DqlPEUYjRr39",
    "outputId": "59af2117-8ff7-4d53-b8d1-54e58605def7"
   },
   "outputs": [
    {
     "name": "stdout",
     "output_type": "stream",
     "text": [
      "Model: \"sequential_1\"\n",
      "_________________________________________________________________\n",
      "Layer (type)                 Output Shape              Param #   \n",
      "=================================================================\n",
      "dense_3 (Dense)              (None, 100)               78500     \n",
      "_________________________________________________________________\n",
      "dense_4 (Dense)              (None, 75)                7575      \n",
      "_________________________________________________________________\n",
      "dropout (Dropout)            (None, 75)                0         \n",
      "_________________________________________________________________\n",
      "dense_5 (Dense)              (None, 50)                3800      \n",
      "_________________________________________________________________\n",
      "dense_6 (Dense)              (None, 25)                1275      \n",
      "_________________________________________________________________\n",
      "dense_7 (Dense)              (None, 36)                936       \n",
      "=================================================================\n",
      "Total params: 92,086\n",
      "Trainable params: 92,086\n",
      "Non-trainable params: 0\n",
      "_________________________________________________________________\n"
     ]
    }
   ],
   "source": [
    "#  see the summmary of the model\n",
    "\n",
    "nn_model_2.summary()"
   ]
  },
  {
   "cell_type": "code",
   "execution_count": 43,
   "metadata": {
    "id": "d0G-jhWYRyVs"
   },
   "outputs": [],
   "source": [
    "#  compile the model\n",
    "\n",
    "nn_model_2.compile(loss = \"categorical_crossentropy\", metrics = \"accuracy\", optimizer = \"adam\")"
   ]
  },
  {
   "cell_type": "code",
   "execution_count": 44,
   "metadata": {
    "colab": {
     "base_uri": "https://localhost:8080/"
    },
    "id": "uG-Nu2muR4yW",
    "outputId": "f3c20e52-3521-4b58-ae3f-1eb0396de2d5"
   },
   "outputs": [
    {
     "name": "stdout",
     "output_type": "stream",
     "text": [
      "Epoch 1/40\n",
      "900/900 [==============================] - 3s 3ms/step - loss: 1.3610 - accuracy: 0.6197 - val_loss: 0.6415 - val_accuracy: 0.8167\n",
      "Epoch 2/40\n",
      "900/900 [==============================] - 2s 2ms/step - loss: 0.5771 - accuracy: 0.8310 - val_loss: 0.4412 - val_accuracy: 0.8703\n",
      "Epoch 3/40\n",
      "900/900 [==============================] - 2s 2ms/step - loss: 0.4267 - accuracy: 0.8720 - val_loss: 0.3862 - val_accuracy: 0.8849\n",
      "Epoch 4/40\n",
      "900/900 [==============================] - 2s 2ms/step - loss: 0.3493 - accuracy: 0.8940 - val_loss: 0.3683 - val_accuracy: 0.8965\n",
      "Epoch 5/40\n",
      "900/900 [==============================] - 2s 2ms/step - loss: 0.3022 - accuracy: 0.9085 - val_loss: 0.3265 - val_accuracy: 0.9029\n",
      "Epoch 6/40\n",
      "900/900 [==============================] - 2s 2ms/step - loss: 0.2680 - accuracy: 0.9150 - val_loss: 0.3393 - val_accuracy: 0.8997\n",
      "Epoch 7/40\n",
      "900/900 [==============================] - 2s 2ms/step - loss: 0.2365 - accuracy: 0.9253 - val_loss: 0.3156 - val_accuracy: 0.9072\n",
      "Epoch 8/40\n",
      "900/900 [==============================] - 2s 2ms/step - loss: 0.2127 - accuracy: 0.9317 - val_loss: 0.3071 - val_accuracy: 0.9100\n",
      "Epoch 9/40\n",
      "900/900 [==============================] - 2s 2ms/step - loss: 0.1943 - accuracy: 0.9365 - val_loss: 0.3144 - val_accuracy: 0.9121\n",
      "Epoch 10/40\n",
      "900/900 [==============================] - 2s 2ms/step - loss: 0.1805 - accuracy: 0.9400 - val_loss: 0.3040 - val_accuracy: 0.9119\n",
      "Epoch 11/40\n",
      "900/900 [==============================] - 2s 2ms/step - loss: 0.1684 - accuracy: 0.9458 - val_loss: 0.2999 - val_accuracy: 0.9137\n",
      "Epoch 12/40\n",
      "900/900 [==============================] - 2s 2ms/step - loss: 0.1549 - accuracy: 0.9480 - val_loss: 0.2942 - val_accuracy: 0.9185\n",
      "Epoch 13/40\n",
      "900/900 [==============================] - 2s 2ms/step - loss: 0.1459 - accuracy: 0.9503 - val_loss: 0.3202 - val_accuracy: 0.9142\n",
      "Epoch 14/40\n",
      "900/900 [==============================] - 2s 2ms/step - loss: 0.1373 - accuracy: 0.9543 - val_loss: 0.3020 - val_accuracy: 0.9204\n",
      "Epoch 15/40\n",
      "900/900 [==============================] - 2s 2ms/step - loss: 0.1325 - accuracy: 0.9551 - val_loss: 0.3176 - val_accuracy: 0.9156\n",
      "Epoch 16/40\n",
      "900/900 [==============================] - 2s 2ms/step - loss: 0.1249 - accuracy: 0.9584 - val_loss: 0.3416 - val_accuracy: 0.9160\n",
      "Epoch 17/40\n",
      "900/900 [==============================] - 2s 2ms/step - loss: 0.1191 - accuracy: 0.9588 - val_loss: 0.3279 - val_accuracy: 0.9185\n",
      "Epoch 18/40\n",
      "900/900 [==============================] - 2s 2ms/step - loss: 0.1178 - accuracy: 0.9581 - val_loss: 0.3439 - val_accuracy: 0.9182\n",
      "Epoch 19/40\n",
      "900/900 [==============================] - 2s 2ms/step - loss: 0.1082 - accuracy: 0.9625 - val_loss: 0.3057 - val_accuracy: 0.9247\n",
      "Epoch 20/40\n",
      "900/900 [==============================] - 2s 2ms/step - loss: 0.1063 - accuracy: 0.9641 - val_loss: 0.3369 - val_accuracy: 0.9193\n",
      "Epoch 21/40\n",
      "900/900 [==============================] - 2s 2ms/step - loss: 0.0984 - accuracy: 0.9674 - val_loss: 0.3370 - val_accuracy: 0.9194\n",
      "Epoch 22/40\n",
      "900/900 [==============================] - 2s 2ms/step - loss: 0.1017 - accuracy: 0.9651 - val_loss: 0.3548 - val_accuracy: 0.9206\n",
      "Epoch 23/40\n",
      "900/900 [==============================] - 2s 3ms/step - loss: 0.0980 - accuracy: 0.9661 - val_loss: 0.3485 - val_accuracy: 0.9160\n",
      "Epoch 24/40\n",
      "900/900 [==============================] - 2s 2ms/step - loss: 0.0892 - accuracy: 0.9684 - val_loss: 0.3504 - val_accuracy: 0.9192\n",
      "Epoch 25/40\n",
      "900/900 [==============================] - 2s 2ms/step - loss: 0.0949 - accuracy: 0.9664 - val_loss: 0.3562 - val_accuracy: 0.9190\n",
      "Epoch 26/40\n",
      "900/900 [==============================] - 2s 2ms/step - loss: 0.0854 - accuracy: 0.9702 - val_loss: 0.3905 - val_accuracy: 0.9192\n",
      "Epoch 27/40\n",
      "900/900 [==============================] - 2s 2ms/step - loss: 0.0832 - accuracy: 0.9705 - val_loss: 0.3680 - val_accuracy: 0.9206\n",
      "Epoch 28/40\n",
      "900/900 [==============================] - 2s 2ms/step - loss: 0.0880 - accuracy: 0.9692 - val_loss: 0.3582 - val_accuracy: 0.9239\n",
      "Epoch 29/40\n",
      "900/900 [==============================] - 2s 2ms/step - loss: 0.0820 - accuracy: 0.9719 - val_loss: 0.3782 - val_accuracy: 0.9251\n",
      "Epoch 30/40\n",
      "900/900 [==============================] - 2s 2ms/step - loss: 0.0790 - accuracy: 0.9718 - val_loss: 0.3782 - val_accuracy: 0.9201\n",
      "Epoch 31/40\n",
      "900/900 [==============================] - 2s 2ms/step - loss: 0.0768 - accuracy: 0.9730 - val_loss: 0.3942 - val_accuracy: 0.9169\n",
      "Epoch 32/40\n",
      "900/900 [==============================] - 2s 2ms/step - loss: 0.0782 - accuracy: 0.9731 - val_loss: 0.4299 - val_accuracy: 0.9103\n",
      "Epoch 33/40\n",
      "900/900 [==============================] - 2s 2ms/step - loss: 0.0842 - accuracy: 0.9722 - val_loss: 0.3943 - val_accuracy: 0.9190\n",
      "Epoch 34/40\n",
      "900/900 [==============================] - 2s 2ms/step - loss: 0.0753 - accuracy: 0.9733 - val_loss: 0.3841 - val_accuracy: 0.9212\n",
      "Epoch 35/40\n",
      "900/900 [==============================] - 2s 2ms/step - loss: 0.0694 - accuracy: 0.9756 - val_loss: 0.4174 - val_accuracy: 0.9140\n",
      "Epoch 36/40\n",
      "900/900 [==============================] - 2s 2ms/step - loss: 0.0702 - accuracy: 0.9755 - val_loss: 0.3988 - val_accuracy: 0.9211\n",
      "Epoch 37/40\n",
      "900/900 [==============================] - 2s 2ms/step - loss: 0.0722 - accuracy: 0.9753 - val_loss: 0.3926 - val_accuracy: 0.9208\n",
      "Epoch 38/40\n",
      "900/900 [==============================] - 2s 2ms/step - loss: 0.0707 - accuracy: 0.9754 - val_loss: 0.3832 - val_accuracy: 0.9254\n",
      "Epoch 39/40\n",
      "900/900 [==============================] - 2s 2ms/step - loss: 0.0663 - accuracy: 0.9766 - val_loss: 0.3929 - val_accuracy: 0.9254\n",
      "Epoch 40/40\n",
      "900/900 [==============================] - 2s 3ms/step - loss: 0.0704 - accuracy: 0.9764 - val_loss: 0.4110 - val_accuracy: 0.9222\n"
     ]
    }
   ],
   "source": [
    "#  training the model, this time we increase the no of epochs\n",
    "#  also validation parameter is used to see how model performs on test data while training\n",
    "#  we also save training history in a varibale for each epoch which can be used to create plots or learning curves for model\n",
    "\n",
    "hist = nn_model_2.fit(X_train, y_train, epochs = 40, validation_data  = (X_test, y_test))"
   ]
  },
  {
   "cell_type": "code",
   "execution_count": 45,
   "metadata": {
    "colab": {
     "base_uri": "https://localhost:8080/"
    },
    "id": "2ST5yJGnR7Ke",
    "outputId": "368f0459-e49d-49ce-ac48-994afe4dcc4d"
   },
   "outputs": [
    {
     "name": "stdout",
     "output_type": "stream",
     "text": [
      "225/225 [==============================] - 0s 1ms/step - loss: 0.4110 - accuracy: 0.9222\n",
      "\n",
      "Neural Network Model 2, Accuracy  : 0.9222221970558167 \n",
      "\n",
      "Neural Network Model 2, Loss  : 0.41103631258010864 \n",
      "\n"
     ]
    }
   ],
   "source": [
    "#  performance of model on test data\n",
    "\n",
    "test = nn_model_2.evaluate(X_test, y_test)\n",
    "print(f\"\\nNeural Network Model 2, Accuracy  : {test[1]} \\n\")\n",
    "print(f\"Neural Network Model 2, Loss  : {test[0]} \\n\")"
   ]
  },
  {
   "cell_type": "code",
   "execution_count": 46,
   "metadata": {
    "colab": {
     "base_uri": "https://localhost:8080/",
     "height": 281
    },
    "id": "A3FfGU7zSSc8",
    "outputId": "cd4615ab-5383-4c6a-8e10-cf34a7b51d85"
   },
   "outputs": [
    {
     "data": {
      "image/png": "[encoded data removed]",
      "text/plain": [
       "<Figure size 432x288 with 1 Axes>"
      ]
     },
     "metadata": {
      "needs_background": "light"
     },
     "output_type": "display_data"
    }
   ],
   "source": [
    "#  Plot the loss curves or training history for the above model using the saved history\n",
    "\n",
    "import pandas as pd\n",
    "pd.DataFrame(hist.history).plot(title=\"Loss Curve for simple neural network model\");  #  can access info in hist variable using history attribute"
   ]
  },
  {
   "cell_type": "markdown",
   "metadata": {
    "id": "6m6yhtNJSZeV"
   },
   "source": [
    "### **Making predictions with simple neural network model**"
   ]
  },
  {
   "cell_type": "code",
   "execution_count": 47,
   "metadata": {
    "colab": {
     "base_uri": "https://localhost:8080/"
    },
    "id": "02UxzYZQSV7O",
    "outputId": "7b64a968-cb42-429f-ba77-1f2196e7a1cd"
   },
   "outputs": [
    {
     "data": {
      "text/plain": [
       "array([1.9480401e-16, 8.7733383e-25, 1.0000000e+00, 3.9309434e-11,\n",
       "       6.7007737e-20, 2.0155357e-24, 6.0394310e-14, 6.5208344e-14,\n",
       "       6.4307771e-15, 2.4801577e-21, 4.9940570e-17, 7.7346990e-20,\n",
       "       7.0755431e-26, 4.1253637e-19, 4.4448643e-29, 5.3822209e-31,\n",
       "       8.6516643e-25, 9.7722614e-24, 1.0281032e-34, 4.3783404e-14,\n",
       "       8.5873701e-28, 3.2075829e-34, 8.6307759e-30, 3.0355853e-24,\n",
       "       5.5885331e-18, 4.7877881e-19, 1.2696810e-15, 1.1848244e-21,\n",
       "       6.2796059e-22, 1.8762370e-31, 7.1142150e-27, 0.0000000e+00,\n",
       "       6.1037915e-38, 1.2005423e-38, 1.9347216e-34, 2.6791261e-19],\n",
       "      dtype=float32)"
      ]
     },
     "execution_count": 47,
     "metadata": {},
     "output_type": "execute_result"
    }
   ],
   "source": [
    "#  assign the best neural network model to a new varibale\n",
    "nn_model = nn_model_2\n",
    "\n",
    "#  we make predictions on the test data(X_test) using .predict() method\n",
    "#  model outputs a list of prediction probabilities,\n",
    "#  meaning a no. for how likely it thinks a part. class is to be the label\n",
    "\n",
    "nn_y_pred_prob = nn_model.predict(X_test)  #  storing prediction probabilities in y_pred_prob varibale\n",
    "nn_y_pred_prob[0]  #  see the first prediction probability --> probability for each class"
   ]
  },
  {
   "cell_type": "code",
   "execution_count": 48,
   "metadata": {
    "colab": {
     "base_uri": "https://localhost:8080/"
    },
    "id": "SftZQRV4Sb29",
    "outputId": "f2d7cb35-a27f-4db6-d755-73c7cee0c0ff"
   },
   "outputs": [
    {
     "name": "stdout",
     "output_type": "stream",
     "text": [
      "First 10 prediction classes : [2 3 0 7 2 3 6 9 3 4]\n",
      "\n",
      "First 10 actual classes     : [2 3 0 7 2 3 0 9 3 4]\n",
      "\n"
     ]
    }
   ],
   "source": [
    "#  convert the prediction probability to predictions by getting the highest probablity from each prediction prob.\n",
    "\n",
    "nn_y_pred = nn_y_pred_prob.argmax(axis = 1)\n",
    "\n",
    "#  display predictions, actual classes\n",
    "print(f\"First 10 prediction classes : {nn_y_pred[:10]}\\n\")\n",
    "print(f\"First 10 actual classes     : {(y_test[:10]).argmax(axis = 1)}\\n\") "
   ]
  },
  {
   "cell_type": "markdown",
   "metadata": {
    "id": "a-l5AkXUSkix"
   },
   "source": [
    "### **Making confusion matrix for simple neural network model**"
   ]
  },
  {
   "cell_type": "code",
   "execution_count": 49,
   "metadata": {
    "colab": {
     "base_uri": "https://localhost:8080/"
    },
    "id": "VIO0dRecSfrv",
    "outputId": "072bd5a4-84f6-46fa-aa48-b1502dfd0e2d"
   },
   "outputs": [
    {
     "data": {
      "text/plain": [
       "array([[169,   0,   0,   0,   0,   1,   3,   1,   0,   0,   0,   0,   0,\n",
       "          2,   0,   0,   0,   0,   0,   0,   0,   0,   0,   0,  29,   0,\n",
       "          0,   0,   0,   0,   0,   0,   0,   0,   0,   0],\n",
       "       [  0, 170,   1,   0,   0,   0,   0,   1,   0,   2,   0,   0,   0,\n",
       "          0,   0,   0,   0,   0,   0,   0,   0,   0,   0,   0,   0,   0,\n",
       "          0,   0,   0,   0,   0,   0,   0,   0,   0,   0],\n",
       "       [  0,   2, 158,   1,   1,   0,   0,   6,   2,   1,   0,   0,   0,\n",
       "          3,   0,   0,   0,   0,   0,   2,   0,   1,   0,   0,   0,   0,\n",
       "          1,   0,   0,   0,   0,   0,   0,   0,   0,  12],\n",
       "       [  1,   1,   2, 189,   0,   1,   0,   2,   3,   5,   0,   4,   0,\n",
       "          0,   1,   0,   0,   0,   0,   0,   0,   0,   0,   0,   0,   0,\n",
       "          0,   0,   2,   0,   0,   0,   0,   0,   0,   1],\n",
       "       [  0,   0,   0,   0, 197,   0,   0,   0,   1,   3,   1,   0,   0,\n",
       "          0,   0,   0,   1,   2,   0,   0,   0,   0,   0,   0,   0,   0,\n",
       "          0,   0,   0,   0,   1,   0,   0,   0,   0,   0],\n",
       "       [  1,   0,   0,   2,   0, 184,   1,   0,   0,   2,   0,   0,   0,\n",
       "          0,   0,   0,   1,   0,   0,   1,   0,   0,   0,   0,   0,   0,\n",
       "          0,   0,   9,   0,   0,   0,   0,   0,   0,   0],\n",
       "       [  1,   1,   0,   0,   2,   1, 212,   0,   0,   1,   0,   0,   0,\n",
       "          0,   0,   0,   2,   0,   0,   0,   0,   0,   0,   0,   0,   0,\n",
       "          0,   0,   0,   0,   0,   0,   0,   0,   0,   0],\n",
       "       [  1,   0,   2,   1,   0,   0,   0, 191,   0,   5,   0,   0,   0,\n",
       "          0,   0,   0,   0,   0,   0,   0,   0,   0,   0,   0,   0,   0,\n",
       "          0,   0,   0,   0,   0,   0,   0,   0,   0,   0],\n",
       "       [  4,   1,   2,   1,   0,   1,   1,   2, 174,   4,   0,   2,   0,\n",
       "          0,   0,   0,   1,   1,   0,   0,   0,   0,   0,   0,   0,   0,\n",
       "          1,   0,   1,   0,   0,   1,   0,   1,   1,   0],\n",
       "       [  1,   0,   1,   1,   3,   0,   0,   2,   1, 177,   0,   0,   1,\n",
       "          0,   0,   0,   0,   0,   0,   0,   0,   0,   1,   0,   2,   1,\n",
       "          2,   0,   0,   0,   0,   0,   0,   0,   0,   0],\n",
       "       [  0,   0,   0,   0,   0,   0,   0,   0,   0,   0, 178,   0,   0,\n",
       "          0,   0,   0,   0,   4,   0,   0,   2,   0,   1,   0,   0,   1,\n",
       "          0,   1,   0,   0,   0,   0,   0,   1,   0,   0],\n",
       "       [  0,   0,   0,   0,   0,   0,   0,   1,   2,   0,   3, 180,   0,\n",
       "          1,   3,   0,   0,   1,   0,   0,   1,   0,   1,   0,   0,   0,\n",
       "          0,   0,   0,   0,   0,   0,   0,   0,   0,   2],\n",
       "       [  1,   0,   0,   0,   0,   0,   0,   0,   0,   0,   0,   0, 187,\n",
       "          0,   3,   0,   0,   0,   0,   0,   0,   0,   0,   0,   3,   0,\n",
       "          0,   0,   0,   0,   0,   0,   0,   0,   0,   0],\n",
       "       [  3,   0,   0,   0,   0,   0,   0,   0,   0,   0,   0,   4,   1,\n",
       "        192,   0,   0,   0,   0,   0,   0,   0,   0,   0,   0,   2,   2,\n",
       "          0,   0,   0,   0,   0,   0,   1,   1,   1,   0],\n",
       "       [  0,   0,   0,   0,   0,   0,   0,   0,   0,   0,   0,   3,  10,\n",
       "          0, 175,   2,   5,   0,   0,   0,   2,   1,   0,   0,   0,   1,\n",
       "          0,   0,   0,   2,   0,   0,   0,   0,   0,   0],\n",
       "       [  0,   0,   0,   0,   0,   0,   0,   0,   0,   0,   0,   0,   0,\n",
       "          0,   0, 201,   1,   0,   0,   0,   1,   0,   0,   0,   0,   1,\n",
       "          0,   0,   0,   0,   0,   0,   0,   0,   0,   0],\n",
       "       [  0,   0,   0,   0,   0,   0,   1,   0,   0,   0,   0,   2,   3,\n",
       "          0,   1,   0, 208,   0,   0,   0,   0,   0,   1,   0,   2,   0,\n",
       "          1,   0,   1,   0,   0,   0,   1,   0,   0,   0],\n",
       "       [  0,   0,   0,   0,   5,   0,   0,   0,   0,   0,   2,   0,   0,\n",
       "          0,   0,   0,   0, 188,   0,   0,   0,   0,   0,   5,   0,   0,\n",
       "          0,   0,   0,   0,   4,   0,   0,   0,   2,   0],\n",
       "       [  0,   0,   0,   1,   0,   0,   0,   0,   0,   0,   0,   0,   0,\n",
       "          0,   0,   0,   0,   0, 214,   2,   0,   0,   0,   0,   0,   0,\n",
       "          0,   0,   0,   1,   0,   0,   0,   0,   0,   0],\n",
       "       [  0,   0,   1,   0,   0,   0,   0,   1,   0,   0,   0,   0,   1,\n",
       "          2,   1,   0,   0,   1,   4, 173,   0,   0,   0,   1,   0,   0,\n",
       "          0,   0,   2,  12,   2,   0,   0,   0,   1,   0],\n",
       "       [  0,   0,   0,   0,   0,   0,   0,   0,   0,   0,   2,   0,   0,\n",
       "          0,   0,   0,   0,   3,   0,   0, 205,   2,   4,   0,   0,   0,\n",
       "          0,   1,   0,   0,   2,   0,   0,   4,   0,   0],\n",
       "       [  0,   0,   0,   0,   0,   0,   0,   0,   0,   0,   0,   0,   2,\n",
       "          0,   0,   0,   0,   0,   0,   0,   1, 194,   0,   0,   0,   0,\n",
       "          0,   0,   0,   0,   0,   0,   0,   0,   0,   0],\n",
       "       [  0,   0,   0,   0,   0,   0,   0,   1,   0,   0,   1,   0,   0,\n",
       "          0,   0,   0,   0,   3,   0,   0,   0,   0, 174,   0,   0,   0,\n",
       "          0,   0,   0,   0,   1,   0,   0,   0,   0,   0],\n",
       "       [  0,   0,   0,   0,   0,   0,   0,   0,   1,   0,   0,   0,   0,\n",
       "          0,   0,   0,   0,   4,   0,   1,   0,   0,   4, 182,   0,   0,\n",
       "          0,   0,   0,   0,   3,   0,   3,   0,   0,   0],\n",
       "       [ 32,   0,   0,   0,   0,   0,   0,   0,   0,   0,   0,   1,   3,\n",
       "          6,   0,   0,   0,   0,   0,   0,   0,   0,   1,   0, 147,   0,\n",
       "          1,   0,   0,   0,   1,   0,   0,   0,   0,   0],\n",
       "       [  0,   0,   0,   0,   0,   0,   0,   0,   0,   0,   0,   0,   0,\n",
       "          1,   0,   1,   0,   1,   0,   0,   0,   0,   0,   0,   0, 198,\n",
       "          0,   0,   0,   2,   0,   0,   0,   0,   2,   1],\n",
       "       [  0,   0,   0,   0,   0,   0,   0,   0,   0,   0,   1,   2,   4,\n",
       "          3,   0,   0,   1,   0,   0,   0,   0,   0,   0,   0,   3,   4,\n",
       "        165,   1,   0,   0,   0,   0,   0,   0,   0,   0],\n",
       "       [  0,   0,   0,   0,   0,   0,   0,   0,   1,   0,   8,   0,   2,\n",
       "          0,   1,   0,   0,   0,   0,   0,  16,   0,   3,   0,   0,   1,\n",
       "          1, 157,   0,   0,   0,   0,   0,   1,   0,   2],\n",
       "       [  0,   0,   0,   6,   0,   7,   0,   1,   1,   1,   0,   3,   0,\n",
       "          2,   1,   0,   6,   0,   0,   1,   0,   0,   0,   0,   1,   0,\n",
       "          0,   0, 170,   0,   0,   0,   0,   0,   0,   0],\n",
       "       [  0,   0,   0,   0,   0,   0,   0,   0,   0,   0,   0,   0,   0,\n",
       "          0,   0,   0,   0,   0,   0,   0,   0,   0,   0,   0,   0,   0,\n",
       "          0,   0,   0, 187,   0,   0,   0,   0,   0,   0],\n",
       "       [  1,   0,   0,   0,   2,   0,   0,   0,   0,   0,   0,   0,   0,\n",
       "          1,   0,   0,   0,   2,   0,   0,   0,   0,   0,   0,   0,   0,\n",
       "          1,   0,   0,   0, 200,   0,   0,   0,   0,   0],\n",
       "       [  0,   0,   0,   0,   0,   0,   0,   0,   0,   0,   0,   0,   0,\n",
       "          0,   0,   0,   0,   0,   0,   0,   0,   0,   0,   0,   0,   0,\n",
       "          0,   0,   0,   0,   1, 212,   1,   0,   0,   0],\n",
       "       [  0,   0,   0,   0,   0,   0,   0,   0,   1,   0,   0,   0,   0,\n",
       "          0,   0,   0,   0,   2,   0,   0,   1,   1,   1,   4,   0,   0,\n",
       "          0,   0,   0,   0,   2,   0, 167,   0,   0,   0],\n",
       "       [  0,   0,   0,   0,   0,   0,   1,   0,   0,   0,   1,   0,   0,\n",
       "          0,   0,   0,   0,   0,   1,   0,   6,   1,   0,   0,   0,   0,\n",
       "          0,   0,   0,   0,   1,   0,   1, 187,   3,   0],\n",
       "       [  0,   0,   0,   0,   5,   0,   0,   2,   0,   0,   0,   0,   0,\n",
       "          0,   0,   0,   0,   1,   0,   0,   0,   0,   0,   0,   0,   1,\n",
       "          0,   0,   0,   1,   0,   2,   0,   1, 190,   0],\n",
       "       [  0,   0,   3,   0,   0,   0,   0,   0,   0,   0,   0,   2,   0,\n",
       "          0,   0,   0,   1,   0,   0,   0,   0,   3,   0,   0,   0,   0,\n",
       "          0,   0,   0,   0,   0,   0,   0,   2,   0, 188]])"
      ]
     },
     "execution_count": 49,
     "metadata": {},
     "output_type": "execute_result"
    }
   ],
   "source": [
    "from sklearn.metrics import confusion_matrix  #  inbuilt module for making confusion matrix\n",
    "\n",
    "#  confusion matrix compares true lables with predicted labels, \n",
    "#  also indicates that how much a particular class is confused with other classes \n",
    "\n",
    "#  as true labels(y_test) are one-hot encoded we take max from all columns of a row,\n",
    "#  which gives class of that particular image, using argmax()\n",
    "\n",
    "y_true = y_test.argmax(axis = 1)\n",
    "np.set_printoptions(threshold = np.inf)                 #  for printing the full confusion matrix\n",
    "confusion_matrix(y_true = y_true, y_pred = nn_y_pred)   #  y_true is actual labels, y_pred is predicted labels\n",
    "\n",
    "#  when two images have a similar shape, then predictions get mixed up"
   ]
  },
  {
   "cell_type": "code",
   "execution_count": 50,
   "metadata": {
    "colab": {
     "base_uri": "https://localhost:8080/",
     "height": 313
    },
    "id": "W5WtsMIZSu0_",
    "outputId": "442e6fe4-f669-4770-c9f1-7807670a910c"
   },
   "outputs": [
    {
     "data": {
      "text/plain": [
       "Text(0.5, 1.0, '\\nTrue Character : J, Predicted Character : J')"
      ]
     },
     "execution_count": 50,
     "metadata": {},
     "output_type": "execute_result"
    },
    {
     "data": {
      "image/png": "[encoded data removed]",
      "text/plain": [
       "<Figure size 432x288 with 1 Axes>"
      ]
     },
     "metadata": {
      "needs_background": "light"
     },
     "output_type": "display_data"
    }
   ],
   "source": [
    "#  plot a random image with its prediction, and compare true with predicted labels\n",
    "\n",
    "import random                         #  module for generating random numbers \n",
    "i = random.randint(0, len(X_test))    #  gives random integer from range of test data\n",
    "\n",
    "img = X_test[i]                                        #  random image features stored in img variable\n",
    "pred_prob = nn_model.predict(img.reshape(1, 784))      #  have to reshape the image to get into right size for model, 1 means 1 image is passed\n",
    "char_pred = class_names[pred_prob.argmax()]            #  getting predicted character of the image\n",
    "char_true = class_names[y_test[i].argmax()]            #  storing true character  \n",
    "plt.imshow(img.reshape(28, 28), cmap = plt.cm.binary)  #  plot the random image\n",
    "plt.title(f\"\\nTrue Character : {char_true}, Predicted Character : {char_pred}\")  #  title of the plot"
   ]
  },
  {
   "cell_type": "code",
   "execution_count": 51,
   "metadata": {
    "id": "NF9aLNBsSzmc"
   },
   "outputs": [],
   "source": [
    "#  save the simple (fully connected) neural network model using .save() method\n",
    "\n",
    "nn_model.save(\"nn_model.h5\")"
   ]
  },
  {
   "cell_type": "markdown",
   "metadata": {
    "id": "oizS_xcjar2X"
   },
   "source": []
  },
  {
   "cell_type": "markdown",
   "metadata": {
    "id": "DPffk5YFa9dB"
   },
   "source": [
    "### **Building a convolutional neural network model**"
   ]
  },
  {
   "cell_type": "code",
   "execution_count": 55,
   "metadata": {
    "colab": {
     "base_uri": "https://localhost:8080/"
    },
    "id": "IeVlezI5Zulv",
    "outputId": "e00547ac-94eb-48e5-ab04-95c25f7e54e2"
   },
   "outputs": [
    {
     "data": {
      "text/plain": [
       "(28800, 784)"
      ]
     },
     "execution_count": 55,
     "metadata": {},
     "output_type": "execute_result"
    }
   ],
   "source": [
    "#  check shape of input data (X_train)\n",
    "X_train.shape"
   ]
  },
  {
   "cell_type": "code",
   "execution_count": 56,
   "metadata": {
    "id": "O98hpw4oa7g7"
   },
   "outputs": [],
   "source": [
    "#  reshape the input to suit cnn model input and store in new variable\n",
    "#  cnn can deal with image data in 2D, this helps to retain spatial features of images\n",
    "#  input of cnn needs image data, so we reshape single vector of image features into 3 dimension matrix\n",
    "\n",
    "X_train_cnn = X_train.reshape(X_train.shape[0], 28, 28, 1)  #  will reshape flattened array of image pixels to 28*28 matrix \n",
    "X_test_cnn = X_test.reshape(X_test.shape[0], 28, 28, 1)     #  1 means image has 1 channel i.e gray-scale image"
   ]
  },
  {
   "cell_type": "code",
   "execution_count": 57,
   "metadata": {
    "id": "Tfd0FkXAbI09"
   },
   "outputs": [],
   "source": [
    "#  import necessary libraries for building model\n",
    "\n",
    "from keras.layers import Conv2D, MaxPooling2D, Flatten, Dropout, Dense, Input  #  layers imported for cnn model\n",
    "from keras.models import Sequential  #  Sequential is type of model"
   ]
  },
  {
   "cell_type": "code",
   "execution_count": 58,
   "metadata": {
    "id": "n0Ba_sfkbPmd"
   },
   "outputs": [],
   "source": [
    "#  set the random seed for reproducability of results\n",
    "tf.random.set_seed(42)\n",
    "\n",
    "#  we build a sequential model --> which is a linear stack of layers\n",
    "\n",
    "\n",
    "#  define the model\n",
    "cnn_model_1 = Sequential()\n",
    "\n",
    "#  add layers to model\n",
    "\n",
    "#  Input Layer of model, takes image data in 3 dimension shape,\n",
    "#  28*28 is pixel matrix, and 1 is for channel(black-white image has 1 channel)\n",
    "cnn_model_1.add(Input(shape = (28, 28, 1)))\n",
    "\n",
    "#  adding convo layer --> extracts features from the image, relu makes all -ve values to 0\n",
    "#  32 is the no of filters, that conv layer will learn from and also output filter of the convolution layer \n",
    "cnn_model_1.add(Conv2D(32, kernel_size = (3, 3), activation = \"relu\"))  # (3, 3) is the filter matrix, moves through the image\n",
    "\n",
    "#  add dropout layer to avoid overfitting\n",
    "cnn_model_1.add(Dropout(0.1))\n",
    "\n",
    "#  flatten output of conv layer (which generates 3D activation maps) to feed into fully connected output layer\n",
    "cnn_model_1.add(Flatten())\n",
    "\n",
    "#  Fully connected layer with 250 neurons, relu for non-linearities\n",
    "cnn_model_1.add(Dense(250, activation = \"relu\"))\n",
    "\n",
    "#  output layer is a fully connected layer, as total classes are 36, so 1 for each class, softmax for multi class\n",
    "cnn_model_1.add(Dense(36, activation = \"softmax\"))"
   ]
  },
  {
   "cell_type": "code",
   "execution_count": 59,
   "metadata": {
    "colab": {
     "base_uri": "https://localhost:8080/"
    },
    "id": "W0WmyDY1bRz_",
    "outputId": "86e72cef-c18b-4a99-afb2-7be6858c6adc"
   },
   "outputs": [
    {
     "name": "stdout",
     "output_type": "stream",
     "text": [
      "Model: \"sequential_2\"\n",
      "_________________________________________________________________\n",
      "Layer (type)                 Output Shape              Param #   \n",
      "=================================================================\n",
      "conv2d (Conv2D)              (None, 26, 26, 32)        320       \n",
      "_________________________________________________________________\n",
      "dropout_1 (Dropout)          (None, 26, 26, 32)        0         \n",
      "_________________________________________________________________\n",
      "flatten (Flatten)            (None, 21632)             0         \n",
      "_________________________________________________________________\n",
      "dense_8 (Dense)              (None, 250)               5408250   \n",
      "_________________________________________________________________\n",
      "dense_9 (Dense)              (None, 36)                9036      \n",
      "=================================================================\n",
      "Total params: 5,417,606\n",
      "Trainable params: 5,417,606\n",
      "Non-trainable params: 0\n",
      "_________________________________________________________________\n"
     ]
    }
   ],
   "source": [
    "#  see the summary of the model, input and output of layers\n",
    "\n",
    "cnn_model_1.summary()"
   ]
  },
  {
   "cell_type": "code",
   "execution_count": 60,
   "metadata": {
    "id": "C0OorWlAbVh1"
   },
   "outputs": [],
   "source": [
    "#  compile the model, define the metrics, loss function\n",
    "\n",
    "cnn_model_1.compile(metrics = \"accuracy\", loss = \"categorical_crossentropy\", optimizer = \"adam\")\n",
    "\n",
    "#  as labels are one-hot encoded, loss function is categorical cross entropy for multi-class\n",
    "#  optimizer is adam - changes attributes of neural network to reduce the losses\n",
    "#  as no of classes are balanced, so accuracy can be used for evaluation metric"
   ]
  },
  {
   "cell_type": "code",
   "execution_count": 61,
   "metadata": {
    "colab": {
     "base_uri": "https://localhost:8080/"
    },
    "id": "sdYv-NWIba1y",
    "outputId": "1d19ef04-24e2-46d3-faec-5514a14cf3b5"
   },
   "outputs": [
    {
     "name": "stdout",
     "output_type": "stream",
     "text": [
      "Epoch 1/20\n",
      "900/900 [==============================] - 60s 66ms/step - loss: 0.5667 - accuracy: 0.8383 - val_loss: 0.2656 - val_accuracy: 0.9187\n",
      "Epoch 2/20\n",
      "900/900 [==============================] - 59s 66ms/step - loss: 0.1826 - accuracy: 0.9442 - val_loss: 0.2154 - val_accuracy: 0.9360\n",
      "Epoch 3/20\n",
      "900/900 [==============================] - 59s 66ms/step - loss: 0.0982 - accuracy: 0.9676 - val_loss: 0.2059 - val_accuracy: 0.9404\n",
      "Epoch 4/20\n",
      "900/900 [==============================] - 59s 66ms/step - loss: 0.0641 - accuracy: 0.9781 - val_loss: 0.2337 - val_accuracy: 0.9375\n",
      "Epoch 5/20\n",
      "900/900 [==============================] - 60s 66ms/step - loss: 0.0459 - accuracy: 0.9843 - val_loss: 0.2484 - val_accuracy: 0.9344\n",
      "Epoch 6/20\n",
      "900/900 [==============================] - 59s 66ms/step - loss: 0.0367 - accuracy: 0.9873 - val_loss: 0.2473 - val_accuracy: 0.9400\n",
      "Epoch 7/20\n",
      "900/900 [==============================] - 59s 66ms/step - loss: 0.0323 - accuracy: 0.9884 - val_loss: 0.2500 - val_accuracy: 0.9443\n",
      "Epoch 8/20\n",
      "900/900 [==============================] - 59s 66ms/step - loss: 0.0252 - accuracy: 0.9915 - val_loss: 0.2477 - val_accuracy: 0.9440\n",
      "Epoch 9/20\n",
      "900/900 [==============================] - 60s 66ms/step - loss: 0.0222 - accuracy: 0.9924 - val_loss: 0.2530 - val_accuracy: 0.9463\n",
      "Epoch 10/20\n",
      "900/900 [==============================] - 59s 66ms/step - loss: 0.0184 - accuracy: 0.9941 - val_loss: 0.2809 - val_accuracy: 0.9446\n",
      "Epoch 11/20\n",
      "900/900 [==============================] - 60s 66ms/step - loss: 0.0192 - accuracy: 0.9936 - val_loss: 0.2716 - val_accuracy: 0.9436\n",
      "Epoch 12/20\n",
      "900/900 [==============================] - 59s 66ms/step - loss: 0.0125 - accuracy: 0.9957 - val_loss: 0.2999 - val_accuracy: 0.9428\n",
      "Epoch 13/20\n",
      "900/900 [==============================] - 60s 66ms/step - loss: 0.0109 - accuracy: 0.9965 - val_loss: 0.3100 - val_accuracy: 0.9425\n",
      "Epoch 14/20\n",
      "900/900 [==============================] - 59s 66ms/step - loss: 0.0174 - accuracy: 0.9944 - val_loss: 0.2908 - val_accuracy: 0.9474\n",
      "Epoch 15/20\n",
      "900/900 [==============================] - 59s 66ms/step - loss: 0.0124 - accuracy: 0.9958 - val_loss: 0.3097 - val_accuracy: 0.9468\n",
      "Epoch 16/20\n",
      "900/900 [==============================] - 59s 66ms/step - loss: 0.0086 - accuracy: 0.9972 - val_loss: 0.3447 - val_accuracy: 0.9431\n",
      "Epoch 17/20\n",
      "900/900 [==============================] - 60s 66ms/step - loss: 0.0078 - accuracy: 0.9979 - val_loss: 0.3334 - val_accuracy: 0.9475\n",
      "Epoch 18/20\n",
      "900/900 [==============================] - 60s 66ms/step - loss: 0.0100 - accuracy: 0.9972 - val_loss: 0.3484 - val_accuracy: 0.9431\n",
      "Epoch 19/20\n",
      "900/900 [==============================] - 60s 66ms/step - loss: 0.0148 - accuracy: 0.9954 - val_loss: 0.3329 - val_accuracy: 0.9414\n",
      "Epoch 20/20\n",
      "900/900 [==============================] - 60s 66ms/step - loss: 0.0095 - accuracy: 0.9965 - val_loss: 0.3467 - val_accuracy: 0.9449\n"
     ]
    },
    {
     "data": {
      "text/plain": [
       "<keras.callbacks.History at 0x7feb9d318090>"
      ]
     },
     "execution_count": 61,
     "metadata": {},
     "output_type": "execute_result"
    }
   ],
   "source": [
    "#  train the cnn model using model.fit() and training data\n",
    "\n",
    "cnn_model_1.fit(X_train_cnn, y_train, epochs = 20, validation_data = (X_test_cnn, y_test))\n",
    "\n",
    "#  epochs mean no of times the model will work/pass through the entire training data\n",
    "#  validation_parameter is used to indicate how model performs on test data during training"
   ]
  },
  {
   "cell_type": "code",
   "execution_count": 62,
   "metadata": {
    "colab": {
     "base_uri": "https://localhost:8080/"
    },
    "id": "nDiXG4kCbemW",
    "outputId": "b34e3ba0-0728-4b91-ef89-1ae160ae1e1c"
   },
   "outputs": [
    {
     "name": "stdout",
     "output_type": "stream",
     "text": [
      "225/225 [==============================] - 3s 12ms/step - loss: 0.3467 - accuracy: 0.9449\n",
      "\n",
      "CNN Model 1, Accuracy : 0.944861114025116 \n",
      "\n",
      "CNN Model 1, Loss       : 0.34665927290916443 \n",
      "\n"
     ]
    }
   ],
   "source": [
    "#  Evaluate the model on the test data (X_test_cnn, y_test)\n",
    "\n",
    "#  predictions of the model will be matched with y_test to give accuracy\n",
    "testing_model = cnn_model_1.evaluate(X_test_cnn, y_test)\n",
    "print(f\"\\nCNN Model 1, Accuracy : {testing_model[1]} \\n\")\n",
    "print(f\"CNN Model 1, Loss       : {testing_model[0]} \\n\")"
   ]
  },
  {
   "cell_type": "markdown",
   "metadata": {
    "id": "Gp2Bm2I3b6uW"
   },
   "source": []
  },
  {
   "cell_type": "markdown",
   "metadata": {
    "id": "rMl4XLhwb6I1"
   },
   "source": [
    "### **Improving the Convolutional Neural Network Model**"
   ]
  },
  {
   "cell_type": "code",
   "execution_count": 63,
   "metadata": {
    "id": "QJNj80i7b5dY"
   },
   "outputs": [],
   "source": [
    "#  the above cnn model gives 94.4% accuracy on test data, so we try to improve it \n",
    "#  by adding more convolutional layers, pooling layer"
   ]
  },
  {
   "cell_type": "code",
   "execution_count": 68,
   "metadata": {
    "id": "mox1Neo2cTtM"
   },
   "outputs": [],
   "source": [
    "#  Set the random seed to reproduce the results again\n",
    "tf.random.set_seed(42)  \n",
    "\n",
    "#  define the model\n",
    "\n",
    "#  Creating Sequential model which is a linear stack of layers\n",
    "cnn_model_2 = Sequential()\n",
    "\n",
    "#  add layers --> here we use 2 Conv layers and also a pooling layer\n",
    "\n",
    "#  Input layer\n",
    "cnn_model_2.add(Input(shape = (28, 28, 1)))\n",
    "\n",
    "#  convolution or feature extract layers with weight/filter matrix of 3*3 \n",
    "cnn_model_2.add(Conv2D(64, kernel_size = (3, 3), activation = \"relu\"))\n",
    "cnn_model_2.add(Conv2D(32, kernel_size = (3, 3), activation = \"relu\"))\n",
    "\n",
    "#  pooling layer --> reduces output from conv layers to reduce parameters\n",
    "#  2,2 means it selects largest element from 2x2 matrix in the output matrix of Conv. layer\n",
    "cnn_model_2.add(MaxPooling2D(pool_size = (2, 2)))   \n",
    "\n",
    "#  dropout layer to avoid overfitting\n",
    "cnn_model_2.add(Dropout(0.3))\n",
    "\n",
    "#  flattening output of conv layer to provide to output layer\n",
    "cnn_model_2.add(Flatten())\n",
    "\n",
    "#  Dense layer\n",
    "cnn_model_2.add(Dense(252, activation = \"sigmoid\"))\n",
    "\n",
    "#  fully connected output layer to transform output into the total no of classes (36) \n",
    "cnn_model_2.add(Dense(36, activation = \"softmax\"))"
   ]
  },
  {
   "cell_type": "code",
   "execution_count": 69,
   "metadata": {
    "colab": {
     "base_uri": "https://localhost:8080/"
    },
    "id": "oE08vmltcUVT",
    "outputId": "63febd78-c4ab-4af7-be33-0469bd3c60a9"
   },
   "outputs": [
    {
     "name": "stdout",
     "output_type": "stream",
     "text": [
      "Model: \"sequential_4\"\n",
      "_________________________________________________________________\n",
      "Layer (type)                 Output Shape              Param #   \n",
      "=================================================================\n",
      "conv2d_3 (Conv2D)            (None, 26, 26, 64)        640       \n",
      "_________________________________________________________________\n",
      "conv2d_4 (Conv2D)            (None, 24, 24, 32)        18464     \n",
      "_________________________________________________________________\n",
      "max_pooling2d_1 (MaxPooling2 (None, 12, 12, 32)        0         \n",
      "_________________________________________________________________\n",
      "dropout_3 (Dropout)          (None, 12, 12, 32)        0         \n",
      "_________________________________________________________________\n",
      "flatten_2 (Flatten)          (None, 4608)              0         \n",
      "_________________________________________________________________\n",
      "dense_12 (Dense)             (None, 252)               1161468   \n",
      "_________________________________________________________________\n",
      "dense_13 (Dense)             (None, 36)                9108      \n",
      "=================================================================\n",
      "Total params: 1,189,680\n",
      "Trainable params: 1,189,680\n",
      "Non-trainable params: 0\n",
      "_________________________________________________________________\n"
     ]
    }
   ],
   "source": [
    "#  see the summary of the model\n",
    "cnn_model_2.summary()"
   ]
  },
  {
   "cell_type": "code",
   "execution_count": 70,
   "metadata": {
    "id": "eVlrDeIlcU7l"
   },
   "outputs": [],
   "source": [
    "#  compiling the model, using accuracy as evaluation metrics, \n",
    "#  as labels are one-hot encoded so loss function is categorical_crossentropy\n",
    "\n",
    "cnn_model_2.compile(metrics = \"accuracy\", loss = \"categorical_crossentropy\", optimizer = \"adam\")"
   ]
  },
  {
   "cell_type": "code",
   "execution_count": 71,
   "metadata": {
    "colab": {
     "base_uri": "https://localhost:8080/"
    },
    "id": "1jnKO_ESlALb",
    "outputId": "078ea9ca-ba63-4b22-b4fb-8f5d8462a485"
   },
   "outputs": [
    {
     "name": "stdout",
     "output_type": "stream",
     "text": [
      "Epoch 1/15\n",
      "900/900 [==============================] - 85s 94ms/step - loss: 0.7119 - accuracy: 0.8219 - val_loss: 0.2872 - val_accuracy: 0.9201\n",
      "Epoch 2/15\n",
      "900/900 [==============================] - 84s 93ms/step - loss: 0.2489 - accuracy: 0.9315 - val_loss: 0.2055 - val_accuracy: 0.9371\n",
      "Epoch 3/15\n",
      "900/900 [==============================] - 84s 93ms/step - loss: 0.1699 - accuracy: 0.9523 - val_loss: 0.1734 - val_accuracy: 0.9478\n",
      "Epoch 4/15\n",
      "900/900 [==============================] - 84s 93ms/step - loss: 0.1298 - accuracy: 0.9637 - val_loss: 0.1645 - val_accuracy: 0.9492\n",
      "Epoch 5/15\n",
      "900/900 [==============================] - 84s 93ms/step - loss: 0.1018 - accuracy: 0.9708 - val_loss: 0.1520 - val_accuracy: 0.9533\n",
      "Epoch 6/15\n",
      "900/900 [==============================] - 84s 93ms/step - loss: 0.0830 - accuracy: 0.9747 - val_loss: 0.1508 - val_accuracy: 0.9531\n",
      "Epoch 7/15\n",
      "900/900 [==============================] - 84s 93ms/step - loss: 0.0709 - accuracy: 0.9781 - val_loss: 0.1422 - val_accuracy: 0.9554\n",
      "Epoch 8/15\n",
      "900/900 [==============================] - 84s 94ms/step - loss: 0.0590 - accuracy: 0.9823 - val_loss: 0.1325 - val_accuracy: 0.9594\n",
      "Epoch 9/15\n",
      "900/900 [==============================] - 84s 94ms/step - loss: 0.0483 - accuracy: 0.9859 - val_loss: 0.1370 - val_accuracy: 0.9581\n",
      "Epoch 10/15\n",
      "900/900 [==============================] - 84s 93ms/step - loss: 0.0442 - accuracy: 0.9870 - val_loss: 0.1326 - val_accuracy: 0.9610\n",
      "Epoch 11/15\n",
      "900/900 [==============================] - 84s 94ms/step - loss: 0.0386 - accuracy: 0.9880 - val_loss: 0.1310 - val_accuracy: 0.9599\n",
      "Epoch 12/15\n",
      "900/900 [==============================] - 84s 93ms/step - loss: 0.0364 - accuracy: 0.9889 - val_loss: 0.1301 - val_accuracy: 0.9601\n",
      "Epoch 13/15\n",
      "900/900 [==============================] - 84s 93ms/step - loss: 0.0300 - accuracy: 0.9912 - val_loss: 0.1346 - val_accuracy: 0.9629\n",
      "Epoch 14/15\n",
      "900/900 [==============================] - 84s 93ms/step - loss: 0.0271 - accuracy: 0.9920 - val_loss: 0.1344 - val_accuracy: 0.9608\n",
      "Epoch 15/15\n",
      "900/900 [==============================] - 84s 94ms/step - loss: 0.0248 - accuracy: 0.9926 - val_loss: 0.1299 - val_accuracy: 0.9640\n"
     ]
    }
   ],
   "source": [
    "#  train the model on X_train_cnn (training data of the characters reshaped for cnn model)\n",
    "#  here we run through training data for 15 times (called epoch) which gives best test accuracy\n",
    "#  saving train history in a varibale for each epoch which can be used to create learning curves for model  \n",
    "\n",
    "history_inf = cnn_model_2.fit(X_train_cnn, y_train, epochs = 15, validation_data = (X_test_cnn, y_test))"
   ]
  },
  {
   "cell_type": "code",
   "execution_count": 72,
   "metadata": {
    "colab": {
     "base_uri": "https://localhost:8080/"
    },
    "id": "fxHfPyEfcVfa",
    "outputId": "d090dc22-1bff-49b0-dcfe-790188604331"
   },
   "outputs": [
    {
     "name": "stdout",
     "output_type": "stream",
     "text": [
      "225/225 [==============================] - 5s 21ms/step - loss: 0.1299 - accuracy: 0.9640\n",
      "\n",
      "CNN Model 2, Accuracy : 0.9640277624130249 \n",
      "\n",
      "CNN Model 2, Loss       : 0.12989218533039093 \n",
      "\n"
     ]
    }
   ],
   "source": [
    "#  calculate accuracy of the model on test data(X_test_cnn, y_test)\n",
    "\n",
    "testing_val = cnn_model_2.evaluate(X_test_cnn, y_test)\n",
    "\n",
    "print(f\"\\nCNN Model 2, Accuracy : {testing_val[1]} \\n\")\n",
    "print(f\"CNN Model 2, Loss       : {testing_val[0]} \\n\")"
   ]
  },
  {
   "cell_type": "code",
   "execution_count": 73,
   "metadata": {
    "colab": {
     "base_uri": "https://localhost:8080/",
     "height": 281
    },
    "id": "uqMLZ5b_cVhV",
    "outputId": "9283c4d6-99b9-48ee-af95-5d8534702c95"
   },
   "outputs": [
    {
     "data": {
      "image/png": "[encoded data removed]",
      "text/plain": [
       "<Figure size 432x288 with 1 Axes>"
      ]
     },
     "metadata": {
      "needs_background": "light"
     },
     "output_type": "display_data"
    }
   ],
   "source": [
    "#  Plotting the loss curves for the above model using the saved history while training\n",
    "\n",
    "import pandas as pd\n",
    "pd.DataFrame(history_inf.history).plot(title=\"Loss Curve for Convolutional Neural Network model\");  \n",
    "#  can access info in hist variable using history attribute"
   ]
  },
  {
   "cell_type": "markdown",
   "metadata": {
    "id": "iwKe6uPcdCt7"
   },
   "source": []
  },
  {
   "cell_type": "markdown",
   "metadata": {
    "id": "5HIcp3dRdD0i"
   },
   "source": [
    "### **Making Predictions with the CNN Model**"
   ]
  },
  {
   "cell_type": "code",
   "execution_count": 74,
   "metadata": {
    "colab": {
     "base_uri": "https://localhost:8080/"
    },
    "id": "j7tWwTSwcVjD",
    "outputId": "003b0904-bf03-4cd7-afd0-c00629dce2bb"
   },
   "outputs": [
    {
     "data": {
      "text/plain": [
       "array([2.48347496e-05, 6.30586158e-07, 9.99211669e-01, 6.02660293e-04,\n",
       "       7.18958336e-06, 1.38934774e-06, 1.02918726e-04, 1.19021957e-08,\n",
       "       8.04851970e-06, 6.39231303e-07, 2.71662043e-06, 1.15931407e-05,\n",
       "       5.23574795e-10, 1.02180380e-07, 1.90696756e-08, 6.55485666e-11,\n",
       "       2.06479854e-06, 1.74679662e-05, 2.11988441e-10, 2.89137779e-06,\n",
       "       1.53218965e-11, 2.67482675e-10, 4.78197659e-09, 3.39805073e-09,\n",
       "       1.06485516e-07, 1.29174839e-06, 7.68619373e-08, 1.94901361e-07,\n",
       "       6.00853980e-07, 4.36825619e-12, 3.23139138e-09, 1.80053247e-11,\n",
       "       7.33440908e-09, 1.32648426e-09, 1.28320856e-08, 8.29750377e-07],\n",
       "      dtype=float32)"
      ]
     },
     "execution_count": 74,
     "metadata": {},
     "output_type": "execute_result"
    }
   ],
   "source": [
    "#  assign the best convolutional neural network model to a new varibale\n",
    "cnn_model = cnn_model_2\n",
    "\n",
    "#  make predictions on the test data(X_test_cnn) using .predict() method\n",
    "#  model gives prediction probabilities (no between 0 and 1 for each class)\n",
    "\n",
    "cnn_y_pred_prob = cnn_model.predict(X_test_cnn)  #  prediction probabilities\n",
    "cnn_y_pred_prob[0]                               #  see the first prediction probability"
   ]
  },
  {
   "cell_type": "code",
   "execution_count": 75,
   "metadata": {
    "colab": {
     "base_uri": "https://localhost:8080/"
    },
    "id": "67ZRVnEpcVkt",
    "outputId": "2d562e2f-b654-45f9-c0e9-b9e326f2fcb8"
   },
   "outputs": [
    {
     "name": "stdout",
     "output_type": "stream",
     "text": [
      "First 10 prediction classes : [2 3 0 7 2 3 0 9 3 4]\n",
      "\n",
      "First 10 actual classes     : [2 3 0 7 2 3 0 9 3 4]\n",
      "\n"
     ]
    }
   ],
   "source": [
    "#  convert the prediction probability to predictions by getting the highest probablity from each prediction prob.\n",
    "\n",
    "cnn_y_pred = cnn_y_pred_prob.argmax(axis = 1)\n",
    "\n",
    "#  display predicted classes, actual classes\n",
    "print(f\"First 10 prediction classes : {cnn_y_pred[:10]}\\n\") \n",
    "print(f\"First 10 actual classes     : {(y_test[:10]).argmax(axis = 1)}\\n\")"
   ]
  },
  {
   "cell_type": "markdown",
   "metadata": {
    "id": "qo0-kroRdQdW"
   },
   "source": [
    "### **Confusion Matrix for the CNN Model**"
   ]
  },
  {
   "cell_type": "code",
   "execution_count": 76,
   "metadata": {
    "colab": {
     "base_uri": "https://localhost:8080/"
    },
    "id": "1lG5qfYYdMNY",
    "outputId": "a2e16a47-451b-4086-e7de-bb6f2dc4109e"
   },
   "outputs": [
    {
     "data": {
      "text/plain": [
       "array([[168,   0,   0,   0,   0,   0,   1,   0,   0,   0,   0,   1,   0,\n",
       "          0,   0,   0,   1,   0,   0,   0,   0,   0,   0,   0,  34,   0,\n",
       "          0,   0,   0,   0,   0,   0,   0,   0,   0,   0],\n",
       "       [  0, 172,   1,   0,   0,   0,   0,   0,   0,   1,   0,   0,   0,\n",
       "          0,   0,   0,   0,   0,   0,   0,   0,   0,   0,   0,   0,   0,\n",
       "          0,   0,   0,   0,   0,   0,   0,   0,   0,   0],\n",
       "       [  0,   2, 170,   1,   0,   0,   0,   3,   2,   0,   0,   0,   0,\n",
       "          2,   0,   0,   0,   0,   0,   0,   0,   0,   0,   0,   0,   0,\n",
       "          0,   0,   1,   0,   0,   0,   0,   0,   0,   9],\n",
       "       [  0,   0,   2, 203,   0,   1,   0,   1,   1,   1,   0,   2,   0,\n",
       "          0,   0,   0,   0,   0,   0,   0,   0,   0,   0,   0,   0,   0,\n",
       "          0,   0,   1,   0,   0,   0,   0,   0,   0,   0],\n",
       "       [  0,   0,   0,   0, 198,   0,   1,   0,   1,   2,   1,   0,   0,\n",
       "          0,   0,   0,   0,   0,   0,   0,   0,   0,   0,   0,   0,   0,\n",
       "          0,   0,   0,   0,   1,   0,   1,   0,   1,   0],\n",
       "       [  0,   0,   0,   0,   0, 194,   0,   0,   0,   0,   0,   0,   0,\n",
       "          0,   0,   0,   0,   0,   0,   1,   0,   0,   0,   0,   0,   0,\n",
       "          0,   0,   6,   0,   0,   0,   0,   0,   0,   0],\n",
       "       [  1,   1,   0,   0,   0,   1, 213,   0,   1,   0,   0,   0,   1,\n",
       "          0,   0,   0,   2,   0,   0,   0,   0,   0,   0,   0,   0,   0,\n",
       "          0,   0,   0,   0,   0,   0,   0,   0,   0,   0],\n",
       "       [  0,   0,   3,   0,   1,   0,   0, 194,   0,   2,   0,   0,   0,\n",
       "          0,   0,   0,   0,   0,   0,   0,   0,   0,   0,   0,   0,   0,\n",
       "          0,   0,   0,   0,   0,   0,   0,   0,   0,   0],\n",
       "       [  1,   0,   1,   0,   0,   1,   0,   0, 192,   1,   0,   1,   0,\n",
       "          0,   0,   0,   0,   0,   0,   0,   0,   0,   0,   0,   0,   1,\n",
       "          1,   0,   0,   0,   0,   0,   0,   0,   0,   0],\n",
       "       [  0,   0,   1,   1,   1,   1,   0,   2,   1, 182,   0,   0,   0,\n",
       "          0,   0,   0,   1,   0,   0,   0,   0,   0,   0,   0,   0,   0,\n",
       "          3,   0,   0,   0,   0,   0,   0,   0,   0,   0],\n",
       "       [  0,   0,   0,   0,   0,   0,   0,   0,   0,   0, 183,   0,   0,\n",
       "          0,   0,   0,   0,   0,   0,   0,   1,   0,   0,   1,   0,   1,\n",
       "          0,   2,   0,   0,   0,   0,   0,   0,   0,   0],\n",
       "       [  0,   0,   0,   0,   0,   0,   0,   0,   0,   0,   0, 194,   0,\n",
       "          1,   0,   0,   0,   0,   0,   0,   0,   0,   0,   0,   0,   0,\n",
       "          0,   0,   0,   0,   0,   0,   0,   0,   0,   0],\n",
       "       [  1,   0,   0,   0,   0,   0,   0,   0,   0,   0,   0,   0, 192,\n",
       "          0,   0,   0,   1,   0,   0,   0,   0,   0,   0,   0,   0,   0,\n",
       "          0,   0,   0,   0,   0,   0,   0,   0,   0,   0],\n",
       "       [  0,   0,   0,   0,   0,   0,   0,   0,   1,   0,   0,   0,   0,\n",
       "        204,   0,   0,   0,   0,   0,   0,   0,   0,   1,   0,   1,   0,\n",
       "          0,   0,   0,   0,   0,   0,   0,   0,   0,   0],\n",
       "       [  0,   0,   0,   0,   0,   0,   0,   0,   1,   0,   0,   0,   2,\n",
       "          0, 192,   1,   0,   0,   0,   0,   1,   2,   0,   0,   0,   0,\n",
       "          0,   1,   0,   0,   0,   0,   0,   0,   0,   1],\n",
       "       [  0,   0,   0,   0,   0,   0,   0,   0,   0,   0,   0,   0,   0,\n",
       "          0,   1, 203,   0,   0,   0,   0,   0,   0,   0,   0,   0,   0,\n",
       "          0,   0,   0,   0,   0,   0,   0,   0,   0,   0],\n",
       "       [  0,   0,   0,   0,   0,   0,   0,   0,   0,   0,   0,   0,   2,\n",
       "          0,   0,   0, 218,   0,   0,   1,   0,   0,   0,   0,   0,   0,\n",
       "          0,   0,   0,   0,   0,   0,   0,   0,   0,   0],\n",
       "       [  0,   0,   0,   0,   2,   0,   0,   0,   0,   0,   2,   1,   0,\n",
       "          0,   0,   0,   0, 197,   0,   0,   1,   0,   0,   2,   0,   1,\n",
       "          0,   0,   0,   0,   0,   0,   0,   0,   0,   0],\n",
       "       [  0,   0,   0,   0,   0,   0,   0,   0,   0,   0,   0,   0,   0,\n",
       "          0,   0,   0,   0,   0, 218,   0,   0,   0,   0,   0,   0,   0,\n",
       "          0,   0,   0,   0,   0,   0,   0,   0,   0,   0],\n",
       "       [  0,   1,   0,   2,   0,   1,   0,   0,   0,   0,   0,   0,   0,\n",
       "          4,   0,   0,   0,   0,   0, 191,   0,   0,   0,   1,   0,   0,\n",
       "          0,   0,   0,   2,   0,   0,   0,   0,   0,   0],\n",
       "       [  0,   0,   1,   0,   0,   0,   0,   0,   0,   0,   0,   0,   0,\n",
       "          0,   0,   0,   0,   1,   0,   0, 216,   2,   0,   0,   0,   0,\n",
       "          0,   0,   0,   0,   0,   0,   1,   2,   0,   0],\n",
       "       [  0,   0,   0,   0,   0,   0,   0,   0,   0,   0,   0,   0,   1,\n",
       "          0,   0,   0,   0,   0,   0,   0,   0, 196,   0,   0,   0,   0,\n",
       "          0,   0,   0,   0,   0,   0,   0,   0,   0,   0],\n",
       "       [  0,   0,   0,   0,   0,   0,   0,   0,   0,   0,   0,   0,   0,\n",
       "          0,   0,   0,   0,   0,   0,   0,   0,   0, 177,   2,   0,   0,\n",
       "          0,   0,   0,   0,   0,   0,   1,   0,   0,   0],\n",
       "       [  0,   1,   0,   0,   0,   0,   0,   0,   0,   0,   1,   0,   0,\n",
       "          1,   0,   0,   0,   1,   0,   0,   0,   0,   0, 193,   0,   0,\n",
       "          0,   0,   0,   0,   0,   0,   1,   0,   0,   0],\n",
       "       [ 22,   0,   0,   0,   0,   0,   0,   0,   0,   0,   0,   0,   0,\n",
       "          5,   0,   0,   0,   0,   0,   0,   0,   0,   0,   0, 165,   0,\n",
       "          0,   0,   0,   0,   0,   0,   0,   0,   0,   0],\n",
       "       [  0,   0,   0,   0,   0,   0,   0,   0,   0,   0,   0,   0,   0,\n",
       "          2,   0,   1,   0,   0,   0,   0,   0,   0,   0,   0,   0, 198,\n",
       "          0,   2,   0,   1,   0,   0,   0,   0,   2,   0],\n",
       "       [  1,   0,   0,   0,   0,   0,   0,   0,   0,   0,   1,   0,   0,\n",
       "          0,   0,   0,   0,   0,   0,   0,   0,   1,   0,   0,   1,   0,\n",
       "        179,   1,   0,   0,   0,   0,   0,   0,   0,   0],\n",
       "       [  0,   0,   0,   0,   0,   0,   0,   0,   0,   0,   1,   3,   1,\n",
       "          0,   0,   0,   0,   0,   0,   0,   0,   0,   0,   0,   0,   0,\n",
       "          2, 186,   0,   0,   0,   0,   0,   0,   0,   0],\n",
       "       [  0,   0,   0,   1,   0,   2,   0,   0,   0,   0,   0,   0,   0,\n",
       "          1,   0,   0,   0,   0,   0,   2,   0,   0,   0,   0,   0,   0,\n",
       "          0,   0, 194,   0,   0,   0,   0,   0,   0,   0],\n",
       "       [  0,   0,   0,   0,   0,   0,   0,   0,   0,   0,   0,   0,   0,\n",
       "          0,   0,   0,   0,   0,   0,   0,   0,   0,   0,   0,   0,   0,\n",
       "          0,   0,   0, 186,   0,   0,   0,   0,   0,   1],\n",
       "       [  0,   0,   1,   0,   1,   0,   0,   0,   0,   0,   0,   0,   0,\n",
       "          0,   0,   0,   0,   1,   0,   0,   1,   2,   0,   0,   0,   0,\n",
       "          0,   0,   0,   0, 199,   0,   1,   0,   0,   1],\n",
       "       [  0,   0,   0,   0,   0,   0,   0,   0,   0,   0,   0,   0,   0,\n",
       "          0,   0,   0,   0,   0,   0,   0,   0,   0,   0,   0,   0,   0,\n",
       "          0,   0,   0,   0,   0, 214,   0,   0,   0,   0],\n",
       "       [  0,   0,   0,   0,   0,   0,   0,   0,   0,   0,   1,   0,   0,\n",
       "          0,   0,   0,   0,   0,   0,   0,   0,   0,   1,   1,   0,   0,\n",
       "          0,   1,   0,   1,   0,   0, 174,   0,   0,   0],\n",
       "       [  0,   0,   0,   0,   0,   0,   0,   0,   0,   0,   1,   0,   0,\n",
       "          0,   0,   0,   0,   0,   1,   0,   6,   0,   0,   0,   0,   0,\n",
       "          0,   0,   0,   0,   0,   0,   0, 191,   3,   0],\n",
       "       [  0,   0,   0,   0,   2,   0,   0,   0,   0,   0,   0,   0,   0,\n",
       "          1,   0,   0,   0,   0,   0,   0,   0,   0,   0,   0,   0,   0,\n",
       "          0,   0,   0,   0,   1,   1,   0,   0, 198,   0],\n",
       "       [  0,   0,   1,   0,   0,   0,   0,   0,   0,   0,   0,   0,   0,\n",
       "          0,   0,   0,   0,   0,   0,   0,   0,   0,   0,   0,   0,   0,\n",
       "          0,   0,   0,   0,   0,   0,   0,   1,   0, 197]])"
      ]
     },
     "execution_count": 76,
     "metadata": {},
     "output_type": "execute_result"
    }
   ],
   "source": [
    "from sklearn.metrics import confusion_matrix  #  module for making confusion matrix\n",
    "\n",
    "#  confusion matrix indicates how much a particular class is confused with other classes \n",
    "\n",
    "#  as true labels(y_test) are one-hot encoded,\n",
    "#  to get the label in a 1D array we take max from all columns of a row in y_test using argmax()\n",
    "\n",
    "y_true = y_test.argmax(axis = 1)\n",
    "np.set_printoptions(threshold = np.inf)                  #  for printing the full confusion matrix\n",
    "confusion_matrix(y_true = y_true, y_pred = cnn_y_pred)   #  y_pred means predicted labels, y_true means actual labels\n"
   ]
  },
  {
   "cell_type": "code",
   "execution_count": 77,
   "metadata": {
    "colab": {
     "base_uri": "https://localhost:8080/",
     "height": 313
    },
    "id": "79bXQ5sedMY5",
    "outputId": "e46d2348-95a8-4276-ccdd-235f53f7637c"
   },
   "outputs": [
    {
     "data": {
      "text/plain": [
       "Text(0.5, 1.0, '\\nTrue Character : B, Predicted Character : B')"
      ]
     },
     "execution_count": 77,
     "metadata": {},
     "output_type": "execute_result"
    },
    {
     "data": {
      "image/png": "[encoded data removed]",
      "text/plain": [
       "<Figure size 432x288 with 1 Axes>"
      ]
     },
     "metadata": {
      "needs_background": "light"
     },
     "output_type": "display_data"
    }
   ],
   "source": [
    "#  plot a random image with its prediction using the CNN model\n",
    "\n",
    "import random                             #  module for generating random numbers \n",
    "i = random.randint(0, len(X_test_cnn))    #  gives random integer from range of test data\n",
    "\n",
    "image = X_test_cnn[i]                     #  random image features stored in image variable\n",
    "\n",
    "#  have to reshape the image to get into right size for model,\n",
    "#  1 at start means 1 image is passed, (28,28,1) means 28*28 image with 1 channel(black-white image)\n",
    "pred_prob = cnn_model.predict(image.reshape(1, 28, 28, 1))\n",
    "\n",
    "ch_pred = class_names[pred_prob.argmax()]            #  getting predicted character of the image\n",
    "ch_true = class_names[y_test[i].argmax()]            #  storing true character  \n",
    "plt.imshow(image.reshape(28, 28), cmap = plt.cm.binary)                      #  plot the random image\n",
    "plt.title(f\"\\nTrue Character : {ch_true}, Predicted Character : {ch_pred}\")  #  title of the plot"
   ]
  },
  {
   "cell_type": "markdown",
   "metadata": {
    "id": "KecAP7i-drAd"
   },
   "source": [
    "### **Saving the Convolutional Neural Network Model**"
   ]
  },
  {
   "cell_type": "code",
   "execution_count": 78,
   "metadata": {
    "colab": {
     "base_uri": "https://localhost:8080/"
    },
    "id": "JLfKTUPxdMeR",
    "outputId": "919a817f-f4c8-4aa4-a827-07b2d008ab54"
   },
   "outputs": [
    {
     "name": "stdout",
     "output_type": "stream",
     "text": [
      "INFO:tensorflow:Assets written to: cnn_model/assets\n"
     ]
    }
   ],
   "source": [
    "#  Save the model using .save()\n",
    "cnn_model.save(\"cnn_model\")"
   ]
  }
 ],
 "metadata": {
  "colab": {
   "collapsed_sections": [],
   "name": "model_Training.ipynb",
   "provenance": []
  },
  "kernelspec": {
   "display_name": "Python 3",
   "language": "python",
   "name": "python3"
  },
  "language_info": {
   "codemirror_mode": {
    "name": "ipython",
    "version": 3
   },
   "file_extension": ".py",
   "mimetype": "text/x-python",
   "name": "python",
   "nbconvert_exporter": "python",
   "pygments_lexer": "ipython3",
   "version": "3.8.8"
  }
 },
 "nbformat": 4,
 "nbformat_minor": 1
}
